{
  "nbformat": 4,
  "nbformat_minor": 0,
  "metadata": {
    "kernelspec": {
      "name": "python3",
      "display_name": "Python 3"
    },
    "language_info": {
      "codemirror_mode": {
        "name": "ipython",
        "version": 3
      },
      "file_extension": ".py",
      "mimetype": "text/x-python",
      "name": "python",
      "nbconvert_exporter": "python",
      "pygments_lexer": "ipython3",
      "version": "3.7.7"
    },
    "colab": {
      "name": "model.ipynb",
      "provenance": [],
      "collapsed_sections": [],
      "machine_shape": "hm"
    },
    "accelerator": "GPU"
  },
  "cells": [
    {
      "cell_type": "markdown",
      "metadata": {
        "id": "y-7HT4UrO2CE",
        "colab_type": "text"
      },
      "source": [
        "# **Libraries**"
      ]
    },
    {
      "cell_type": "code",
      "metadata": {
        "id": "iHmzAMaIpIyD",
        "colab_type": "code",
        "colab": {}
      },
      "source": [
        "import numpy as np\n",
        "import pandas as pd\n",
        "import pickle\n",
        "import matplotlib.pyplot as plot\n",
        "\n",
        "from sklearn.model_selection import train_test_split\n",
        "from sklearn.preprocessing import OneHotEncoder\n",
        "\n",
        "from tensorflow.keras.models import Sequential\n",
        "from tensorflow.keras.layers import Dense\n",
        "from tensorflow.keras.layers import Dropout\n",
        "from tensorflow.keras.layers import LSTM\n",
        "from tensorflow.keras.layers import Activation\n",
        "from tensorflow.keras.layers import Bidirectional"
      ],
      "execution_count": 0,
      "outputs": []
    },
    {
      "cell_type": "markdown",
      "metadata": {
        "id": "blHEBpuVO9kA",
        "colab_type": "text"
      },
      "source": [
        "# **Importing Dataset**"
      ]
    },
    {
      "cell_type": "code",
      "metadata": {
        "id": "9gMjBj0VpIyI",
        "colab_type": "code",
        "outputId": "1bfde56e-914b-4297-a2ae-b90970623426",
        "colab": {
          "base_uri": "https://localhost:8080/",
          "height": 310
        }
      },
      "source": [
        "url = 'https://github.com/haysacks/midi-generator/raw/master/jazz-midi.csv'\n",
        "df = pd.read_csv(url, index_col = 0)\n",
        "print(df.shape)\n",
        "df.head()"
      ],
      "execution_count": 0,
      "outputs": [
        {
          "output_type": "stream",
          "text": [
            "(818, 5)\n"
          ],
          "name": "stdout"
        },
        {
          "output_type": "execute_result",
          "data": {
            "text/html": [
              "<div>\n",
              "<style scoped>\n",
              "    .dataframe tbody tr th:only-of-type {\n",
              "        vertical-align: middle;\n",
              "    }\n",
              "\n",
              "    .dataframe tbody tr th {\n",
              "        vertical-align: top;\n",
              "    }\n",
              "\n",
              "    .dataframe thead th {\n",
              "        text-align: right;\n",
              "    }\n",
              "</style>\n",
              "<table border=\"1\" class=\"dataframe\">\n",
              "  <thead>\n",
              "    <tr style=\"text-align: right;\">\n",
              "      <th></th>\n",
              "      <th>Name</th>\n",
              "      <th>Notes</th>\n",
              "      <th>Len_Sequence</th>\n",
              "      <th>Unique_notes</th>\n",
              "      <th>len_Uni_Notes</th>\n",
              "    </tr>\n",
              "  </thead>\n",
              "  <tbody>\n",
              "    <tr>\n",
              "      <th>0</th>\n",
              "      <td>BreezeAndI.mid</td>\n",
              "      <td>['E-2', 'B-2', 'B-2', 'E-3', 'B-2', 'B-2', 'E-...</td>\n",
              "      <td>427</td>\n",
              "      <td>{'C3', 'F1', 'A2', 'B-0', 'E-1', 'E3', 'B1', '...</td>\n",
              "      <td>27</td>\n",
              "    </tr>\n",
              "    <tr>\n",
              "      <th>1</th>\n",
              "      <td>IfIHadYou.mid</td>\n",
              "      <td>['10.2.5', '10.2.5', '2.5.8', '2.5.8', '0.3.7'...</td>\n",
              "      <td>204</td>\n",
              "      <td>{'7.10.2', '6.9.0.2', '9.10.0.2.4', '6.9.0', '...</td>\n",
              "      <td>37</td>\n",
              "    </tr>\n",
              "    <tr>\n",
              "      <th>2</th>\n",
              "      <td>IllBeSeeingYou.mid</td>\n",
              "      <td>['E-2', 'E-2', 'B-2', 'B-2', 'G2', 'D3', 'F2',...</td>\n",
              "      <td>455</td>\n",
              "      <td>{'C3', 'F1', 'B-0', 'A2', 'E-1', 'D3', 'B1', '...</td>\n",
              "      <td>29</td>\n",
              "    </tr>\n",
              "    <tr>\n",
              "      <th>3</th>\n",
              "      <td>JustAGame.mid</td>\n",
              "      <td>['B3', '6.11', 'B1', 'E4', 'B1', 'F#4', 'B1', ...</td>\n",
              "      <td>1572</td>\n",
              "      <td>{'C3', '9.2', 'A2', 'B4', 'E3', 'A3', 'D5', 'B...</td>\n",
              "      <td>39</td>\n",
              "    </tr>\n",
              "    <tr>\n",
              "      <th>4</th>\n",
              "      <td>Unforgettable.mid</td>\n",
              "      <td>['G2', 'G1', 'G2', 'G1', 'G2', 'G2', 'G2', 'C#...</td>\n",
              "      <td>421</td>\n",
              "      <td>{'A0', 'C3', 'F1', 'A2', 'E-1', 'E3', 'G1', 'D...</td>\n",
              "      <td>28</td>\n",
              "    </tr>\n",
              "  </tbody>\n",
              "</table>\n",
              "</div>"
            ],
            "text/plain": [
              "                 Name  ... len_Uni_Notes\n",
              "0      BreezeAndI.mid  ...            27\n",
              "1       IfIHadYou.mid  ...            37\n",
              "2  IllBeSeeingYou.mid  ...            29\n",
              "3       JustAGame.mid  ...            39\n",
              "4   Unforgettable.mid  ...            28\n",
              "\n",
              "[5 rows x 5 columns]"
            ]
          },
          "metadata": {
            "tags": []
          },
          "execution_count": 2
        }
      ]
    },
    {
      "cell_type": "markdown",
      "metadata": {
        "id": "MEay6oO4PunR",
        "colab_type": "text"
      },
      "source": [
        "We take the first 100 MIDI files from the dataset due to time constraints."
      ]
    },
    {
      "cell_type": "code",
      "metadata": {
        "scrolled": true,
        "id": "wZBiLRsspIyd",
        "colab_type": "code",
        "outputId": "435779fd-0c9d-42aa-8a01-765209a271ec",
        "colab": {
          "base_uri": "https://localhost:8080/",
          "height": 34
        }
      },
      "source": [
        "# Combine all notes into 1 list\n",
        "notes = df[\"Notes\"][0:100].str.replace(\"'\", \"\").str.replace(' ', '').str.strip('[]').str.split(',')\n",
        "notes = [j for i in list(notes) for j in i]\n",
        " \n",
        "with open('notes.pickle', 'wb') as filename:\n",
        "    pickle.dump(notes, filename)\n",
        "print(\"Saved notes list to disk\")"
      ],
      "execution_count": 0,
      "outputs": [
        {
          "output_type": "stream",
          "text": [
            "Saved notes list to disk\n"
          ],
          "name": "stdout"
        }
      ]
    },
    {
      "cell_type": "markdown",
      "metadata": {
        "id": "GjseC0dKP87g",
        "colab_type": "text"
      },
      "source": [
        "**Making sequences and recording the following note/chord**"
      ]
    },
    {
      "cell_type": "code",
      "metadata": {
        "id": "8dPCEOvapIyg",
        "colab_type": "code",
        "outputId": "8d871050-da72-4f0a-f664-0580570a483b",
        "colab": {
          "base_uri": "https://localhost:8080/",
          "height": 34
        }
      },
      "source": [
        "pitchnames = sorted(set(item for item in notes))\n",
        "# Map notes/chords into integer categories\n",
        "notes_categories = dict((note, number) for number, note in enumerate(pitchnames))\n",
        "\n",
        "# Predict 1 note for sequence of <sequence_length> notes\n",
        "sequence_length = 50\n",
        "length = len(notes) - sequence_length\n",
        "\n",
        "# Input and output for LSTM\n",
        "x = []\n",
        "y = []\n",
        "\n",
        "for i in range(length):\n",
        "    sequence_in = notes[i : i + sequence_length]\n",
        "    sequence_out = notes[i + sequence_length]\n",
        "    \n",
        "    x.append([notes_categories[note] for note in sequence_in])\n",
        "    y.append(notes_categories[sequence_out])\n",
        "\n",
        "with open('x.pickle', 'wb') as filename:\n",
        "  pickle.dump(x, filename)\n",
        "print(\"Saved x to disk\")"
      ],
      "execution_count": 0,
      "outputs": [
        {
          "output_type": "stream",
          "text": [
            "Saved x to disk\n"
          ],
          "name": "stdout"
        }
      ]
    },
    {
      "cell_type": "markdown",
      "metadata": {
        "id": "rQy60_7ePfOz",
        "colab_type": "text"
      },
      "source": [
        "# **Data Preparation**\n",
        "\n",
        "Reshape and normalise input, and one-hot encode categorical output"
      ]
    },
    {
      "cell_type": "code",
      "metadata": {
        "id": "wp7oBGujpIyi",
        "colab_type": "code",
        "outputId": "db0dc941-31b9-4c16-8597-76995038dd5a",
        "colab": {
          "base_uri": "https://localhost:8080/",
          "height": 173
        }
      },
      "source": [
        "n_patterns = len(x)\n",
        "# Number of unique notes\n",
        "n_vocab = len(set(notes))\n",
        "\n",
        "print(n_patterns)\n",
        "print(n_vocab)\n",
        "\n",
        "# Input of LSTM layer is 3D (samples x time steps x features)\n",
        "x = np.reshape(x, (n_patterns, sequence_length, 1))\n",
        "\n",
        "# Normalise input\n",
        "x = x / float(n_vocab)\n",
        "\n",
        "# Encode categorical output\n",
        "y = np.array(y)\n",
        "ohe = OneHotEncoder(sparse = False)\n",
        "y = y.reshape(len(y), 1)\n",
        "y = ohe.fit_transform(y)\n",
        "print(y)\n",
        "\n",
        "x_train, x_test, y_train, y_test = train_test_split(x, y, test_size = 0.2)"
      ],
      "execution_count": 0,
      "outputs": [
        {
          "output_type": "stream",
          "text": [
            "85070\n",
            "515\n",
            "[[0. 0. 0. ... 0. 0. 0.]\n",
            " [0. 0. 0. ... 0. 0. 0.]\n",
            " [0. 0. 0. ... 0. 0. 0.]\n",
            " ...\n",
            " [0. 0. 0. ... 0. 0. 0.]\n",
            " [0. 0. 0. ... 0. 0. 0.]\n",
            " [0. 0. 0. ... 0. 0. 0.]]\n"
          ],
          "name": "stdout"
        }
      ]
    },
    {
      "cell_type": "markdown",
      "metadata": {
        "id": "qcpnjMLhPHu9",
        "colab_type": "text"
      },
      "source": [
        "# **LSTM Model**"
      ]
    },
    {
      "cell_type": "code",
      "metadata": {
        "scrolled": true,
        "id": "vfvNgEz1pIyl",
        "colab_type": "code",
        "outputId": "b493b85f-f469-4028-b719-6a1e4d10f34f",
        "colab": {
          "base_uri": "https://localhost:8080/",
          "height": 467
        }
      },
      "source": [
        "model = Sequential()\n",
        "model.add(LSTM(\n",
        "    512,\n",
        "    input_shape=(x_train.shape[1], x_train.shape[2]),\n",
        "    return_sequences=True\n",
        "))\n",
        "model.add(Dropout(0.3))\n",
        "model.add(Bidirectional(LSTM(512, return_sequences=True)))\n",
        "model.add(Dropout(0.3))\n",
        "model.add(Bidirectional(LSTM(512)))\n",
        "model.add(Dense(256))\n",
        "model.add(Dropout(0.3))\n",
        "model.add(Dense(n_vocab))\n",
        "model.add(Activation('softmax'))\n",
        "model.compile(loss = 'categorical_crossentropy', optimizer = 'adam')\n",
        "\n",
        "model.summary()"
      ],
      "execution_count": 0,
      "outputs": [
        {
          "output_type": "stream",
          "text": [
            "Model: \"sequential\"\n",
            "_________________________________________________________________\n",
            "Layer (type)                 Output Shape              Param #   \n",
            "=================================================================\n",
            "lstm (LSTM)                  (None, 50, 512)           1052672   \n",
            "_________________________________________________________________\n",
            "dropout (Dropout)            (None, 50, 512)           0         \n",
            "_________________________________________________________________\n",
            "bidirectional (Bidirectional (None, 50, 1024)          4198400   \n",
            "_________________________________________________________________\n",
            "dropout_1 (Dropout)          (None, 50, 1024)          0         \n",
            "_________________________________________________________________\n",
            "bidirectional_1 (Bidirection (None, 1024)              6295552   \n",
            "_________________________________________________________________\n",
            "dense (Dense)                (None, 256)               262400    \n",
            "_________________________________________________________________\n",
            "dropout_2 (Dropout)          (None, 256)               0         \n",
            "_________________________________________________________________\n",
            "dense_1 (Dense)              (None, 515)               132355    \n",
            "_________________________________________________________________\n",
            "activation (Activation)      (None, 515)               0         \n",
            "=================================================================\n",
            "Total params: 11,941,379\n",
            "Trainable params: 11,941,379\n",
            "Non-trainable params: 0\n",
            "_________________________________________________________________\n"
          ],
          "name": "stdout"
        }
      ]
    },
    {
      "cell_type": "markdown",
      "metadata": {
        "id": "4fvOJToEPNIi",
        "colab_type": "text"
      },
      "source": [
        "**Training model**"
      ]
    },
    {
      "cell_type": "code",
      "metadata": {
        "id": "YbvXEP7QpIyo",
        "colab_type": "code",
        "outputId": "f551a691-3b75-4b6f-9d8d-7461c730a241",
        "colab": {
          "base_uri": "https://localhost:8080/",
          "height": 1000
        }
      },
      "source": [
        "model.fit(x_train, y_train, validation_data = (x_test, y_test), epochs = 50, batch_size = 64)"
      ],
      "execution_count": 0,
      "outputs": [
        {
          "output_type": "stream",
          "text": [
            "Epoch 1/50\n",
            "1064/1064 [==============================] - 78s 73ms/step - loss: 4.6738 - val_loss: 4.5561\n",
            "Epoch 2/50\n",
            "1064/1064 [==============================] - 76s 72ms/step - loss: 4.5043 - val_loss: 4.4770\n",
            "Epoch 3/50\n",
            "1064/1064 [==============================] - 76s 72ms/step - loss: 4.4381 - val_loss: 4.3900\n",
            "Epoch 4/50\n",
            "1064/1064 [==============================] - 76s 72ms/step - loss: 4.3483 - val_loss: 4.2865\n",
            "Epoch 5/50\n",
            "1064/1064 [==============================] - 76s 71ms/step - loss: 4.2124 - val_loss: 4.1494\n",
            "Epoch 6/50\n",
            "1064/1064 [==============================] - 76s 71ms/step - loss: 4.0790 - val_loss: 4.0402\n",
            "Epoch 7/50\n",
            "1064/1064 [==============================] - 77s 72ms/step - loss: 3.9285 - val_loss: 3.8667\n",
            "Epoch 8/50\n",
            "1064/1064 [==============================] - 76s 72ms/step - loss: 3.7639 - val_loss: 3.7039\n",
            "Epoch 9/50\n",
            "1064/1064 [==============================] - 76s 72ms/step - loss: 3.6184 - val_loss: 3.5924\n",
            "Epoch 10/50\n",
            "1064/1064 [==============================] - 76s 71ms/step - loss: 3.4643 - val_loss: 3.4705\n",
            "Epoch 11/50\n",
            "1064/1064 [==============================] - 76s 71ms/step - loss: 3.3124 - val_loss: 3.3351\n",
            "Epoch 12/50\n",
            "1064/1064 [==============================] - 76s 71ms/step - loss: 3.1489 - val_loss: 3.2594\n",
            "Epoch 13/50\n",
            "1064/1064 [==============================] - 76s 71ms/step - loss: 2.9725 - val_loss: 3.0842\n",
            "Epoch 14/50\n",
            "1064/1064 [==============================] - 76s 71ms/step - loss: 2.8044 - val_loss: 3.0449\n",
            "Epoch 15/50\n",
            "1064/1064 [==============================] - 76s 71ms/step - loss: 2.6633 - val_loss: 2.9772\n",
            "Epoch 16/50\n",
            "1064/1064 [==============================] - 76s 71ms/step - loss: 2.5370 - val_loss: 2.9438\n",
            "Epoch 17/50\n",
            "1064/1064 [==============================] - 76s 71ms/step - loss: 2.4117 - val_loss: 2.9770\n",
            "Epoch 18/50\n",
            "1064/1064 [==============================] - 76s 71ms/step - loss: 2.2902 - val_loss: 2.9552\n",
            "Epoch 19/50\n",
            "1064/1064 [==============================] - 76s 71ms/step - loss: 2.1822 - val_loss: 2.9477\n",
            "Epoch 20/50\n",
            "1064/1064 [==============================] - 76s 71ms/step - loss: 2.0698 - val_loss: 2.9828\n",
            "Epoch 21/50\n",
            "1064/1064 [==============================] - 76s 71ms/step - loss: 1.9658 - val_loss: 3.0266\n",
            "Epoch 22/50\n",
            "1064/1064 [==============================] - 76s 71ms/step - loss: 1.8753 - val_loss: 3.0954\n",
            "Epoch 23/50\n",
            "1064/1064 [==============================] - 76s 71ms/step - loss: 1.7769 - val_loss: 3.0791\n",
            "Epoch 24/50\n",
            "1064/1064 [==============================] - 76s 71ms/step - loss: 1.6864 - val_loss: 3.1807\n",
            "Epoch 25/50\n",
            "1064/1064 [==============================] - 76s 72ms/step - loss: 1.6050 - val_loss: 3.2768\n",
            "Epoch 26/50\n",
            "1064/1064 [==============================] - 76s 71ms/step - loss: 1.5239 - val_loss: 3.3195\n",
            "Epoch 27/50\n",
            "1064/1064 [==============================] - 76s 71ms/step - loss: 1.4510 - val_loss: 3.4078\n",
            "Epoch 28/50\n",
            "1064/1064 [==============================] - 76s 71ms/step - loss: 1.3739 - val_loss: 3.4881\n",
            "Epoch 29/50\n",
            "1064/1064 [==============================] - 76s 71ms/step - loss: 1.3105 - val_loss: 3.6002\n",
            "Epoch 30/50\n",
            "1064/1064 [==============================] - 76s 71ms/step - loss: 1.2541 - val_loss: 3.6640\n",
            "Epoch 31/50\n",
            "1064/1064 [==============================] - 76s 71ms/step - loss: 1.1997 - val_loss: 3.7204\n",
            "Epoch 32/50\n",
            "1064/1064 [==============================] - 76s 71ms/step - loss: 1.1322 - val_loss: 3.7583\n",
            "Epoch 33/50\n",
            "1064/1064 [==============================] - 76s 71ms/step - loss: 1.0857 - val_loss: 3.8891\n",
            "Epoch 34/50\n",
            "1064/1064 [==============================] - 76s 71ms/step - loss: 1.0372 - val_loss: 3.8725\n",
            "Epoch 35/50\n",
            "1064/1064 [==============================] - 76s 71ms/step - loss: 1.0010 - val_loss: 3.9598\n",
            "Epoch 36/50\n",
            "1064/1064 [==============================] - 76s 71ms/step - loss: 0.9523 - val_loss: 4.0676\n",
            "Epoch 37/50\n",
            "1064/1064 [==============================] - 76s 71ms/step - loss: 0.9182 - val_loss: 4.1178\n",
            "Epoch 38/50\n",
            "1064/1064 [==============================] - 76s 71ms/step - loss: 0.8708 - val_loss: 4.1991\n",
            "Epoch 39/50\n",
            "1064/1064 [==============================] - 76s 71ms/step - loss: 0.8361 - val_loss: 4.2931\n",
            "Epoch 40/50\n",
            "1064/1064 [==============================] - 76s 71ms/step - loss: 0.7975 - val_loss: 4.3222\n",
            "Epoch 41/50\n",
            "1064/1064 [==============================] - 76s 71ms/step - loss: 0.7720 - val_loss: 4.4262\n",
            "Epoch 42/50\n",
            "1064/1064 [==============================] - 76s 71ms/step - loss: 0.7390 - val_loss: 4.4240\n",
            "Epoch 43/50\n",
            "1064/1064 [==============================] - 76s 71ms/step - loss: 0.7037 - val_loss: 4.5419\n",
            "Epoch 44/50\n",
            "1064/1064 [==============================] - 76s 71ms/step - loss: 0.6820 - val_loss: 4.6048\n",
            "Epoch 45/50\n",
            "1064/1064 [==============================] - 76s 71ms/step - loss: 0.6580 - val_loss: 4.6815\n",
            "Epoch 46/50\n",
            "1064/1064 [==============================] - 76s 71ms/step - loss: 0.6288 - val_loss: 4.7698\n",
            "Epoch 47/50\n",
            "1064/1064 [==============================] - 76s 71ms/step - loss: 0.6092 - val_loss: 4.8210\n",
            "Epoch 48/50\n",
            "1064/1064 [==============================] - 76s 71ms/step - loss: 0.5821 - val_loss: 4.8813\n",
            "Epoch 49/50\n",
            "1064/1064 [==============================] - 76s 71ms/step - loss: 0.5716 - val_loss: 4.8898\n",
            "Epoch 50/50\n",
            "1064/1064 [==============================] - 76s 71ms/step - loss: 0.5436 - val_loss: 4.9437\n"
          ],
          "name": "stdout"
        },
        {
          "output_type": "execute_result",
          "data": {
            "text/plain": [
              "<tensorflow.python.keras.callbacks.History at 0x7fea66c34128>"
            ]
          },
          "metadata": {
            "tags": []
          },
          "execution_count": 7
        }
      ]
    },
    {
      "cell_type": "markdown",
      "metadata": {
        "id": "LtwmL5zxPLBI",
        "colab_type": "text"
      },
      "source": [
        "**Saving model and weights**"
      ]
    },
    {
      "cell_type": "code",
      "metadata": {
        "id": "DU-FPMtlpIys",
        "colab_type": "code",
        "outputId": "db34dd58-9de4-4f5f-eb0c-2e99cb1cd0a0",
        "colab": {
          "base_uri": "https://localhost:8080/",
          "height": 34
        }
      },
      "source": [
        "model_json = model.to_json()\n",
        "\n",
        "with open(\"model.json\", \"w\") as json_file:\n",
        "    json_file.write(model_json)\n",
        "\n",
        "model.save_weights(\"model.h5\")\n",
        "print(\"Saved model to disk\")"
      ],
      "execution_count": 0,
      "outputs": [
        {
          "output_type": "stream",
          "text": [
            "Saved model to disk\n"
          ],
          "name": "stdout"
        }
      ]
    }
  ]
}