{
 "cells": [
  {
   "cell_type": "markdown",
   "metadata": {
    "colab_type": "text",
    "id": "y-7HT4UrO2CE"
   },
   "source": [
    "# **Libraries**"
   ]
  },
  {
   "cell_type": "code",
   "execution_count": 1,
   "metadata": {
    "colab": {},
    "colab_type": "code",
    "id": "iHmzAMaIpIyD"
   },
   "outputs": [],
   "source": [
    "import numpy as np\n",
    "import pandas as pd\n",
    "import pickle\n",
    "import matplotlib.pyplot as plot\n",
    "\n",
    "from sklearn.model_selection import train_test_split\n",
    "from sklearn.preprocessing import OneHotEncoder\n",
    "\n",
    "from tensorflow.keras.models import Sequential\n",
    "from tensorflow.keras.layers import Dense\n",
    "from tensorflow.keras.layers import Dropout\n",
    "from tensorflow.keras.layers import LSTM\n",
    "from tensorflow.keras.layers import Activation\n",
    "from tensorflow.keras.layers import Bidirectional"
   ]
  },
  {
   "cell_type": "markdown",
   "metadata": {
    "colab_type": "text",
    "id": "blHEBpuVO9kA"
   },
   "source": [
    "# **Importing Dataset**"
   ]
  },
  {
   "cell_type": "code",
   "execution_count": 4,
   "metadata": {
    "colab": {
     "base_uri": "https://localhost:8080/",
     "height": 310
    },
    "colab_type": "code",
    "id": "9gMjBj0VpIyI",
    "outputId": "1bfde56e-914b-4297-a2ae-b90970623426"
   },
   "outputs": [
    {
     "name": "stdout",
     "output_type": "stream",
     "text": [
      "(818, 5)\n"
     ]
    },
    {
     "data": {
      "text/html": [
       "<div>\n",
       "<style scoped>\n",
       "    .dataframe tbody tr th:only-of-type {\n",
       "        vertical-align: middle;\n",
       "    }\n",
       "\n",
       "    .dataframe tbody tr th {\n",
       "        vertical-align: top;\n",
       "    }\n",
       "\n",
       "    .dataframe thead th {\n",
       "        text-align: right;\n",
       "    }\n",
       "</style>\n",
       "<table border=\"1\" class=\"dataframe\">\n",
       "  <thead>\n",
       "    <tr style=\"text-align: right;\">\n",
       "      <th></th>\n",
       "      <th>Name</th>\n",
       "      <th>Notes</th>\n",
       "      <th>Len_Sequence</th>\n",
       "      <th>Unique_notes</th>\n",
       "      <th>len_Uni_Notes</th>\n",
       "    </tr>\n",
       "  </thead>\n",
       "  <tbody>\n",
       "    <tr>\n",
       "      <th>0</th>\n",
       "      <td>BreezeAndI.mid</td>\n",
       "      <td>['E-2', 'B-2', 'B-2', 'E-3', 'B-2', 'B-2', 'E-...</td>\n",
       "      <td>427</td>\n",
       "      <td>{'C3', 'F1', 'A2', 'B-0', 'E-1', 'E3', 'B1', '...</td>\n",
       "      <td>27</td>\n",
       "    </tr>\n",
       "    <tr>\n",
       "      <th>1</th>\n",
       "      <td>IfIHadYou.mid</td>\n",
       "      <td>['10.2.5', '10.2.5', '2.5.8', '2.5.8', '0.3.7'...</td>\n",
       "      <td>204</td>\n",
       "      <td>{'7.10.2', '6.9.0.2', '9.10.0.2.4', '6.9.0', '...</td>\n",
       "      <td>37</td>\n",
       "    </tr>\n",
       "    <tr>\n",
       "      <th>2</th>\n",
       "      <td>IllBeSeeingYou.mid</td>\n",
       "      <td>['E-2', 'E-2', 'B-2', 'B-2', 'G2', 'D3', 'F2',...</td>\n",
       "      <td>455</td>\n",
       "      <td>{'C3', 'F1', 'B-0', 'A2', 'E-1', 'D3', 'B1', '...</td>\n",
       "      <td>29</td>\n",
       "    </tr>\n",
       "    <tr>\n",
       "      <th>3</th>\n",
       "      <td>JustAGame.mid</td>\n",
       "      <td>['B3', '6.11', 'B1', 'E4', 'B1', 'F#4', 'B1', ...</td>\n",
       "      <td>1572</td>\n",
       "      <td>{'C3', '9.2', 'A2', 'B4', 'E3', 'A3', 'D5', 'B...</td>\n",
       "      <td>39</td>\n",
       "    </tr>\n",
       "    <tr>\n",
       "      <th>4</th>\n",
       "      <td>Unforgettable.mid</td>\n",
       "      <td>['G2', 'G1', 'G2', 'G1', 'G2', 'G2', 'G2', 'C#...</td>\n",
       "      <td>421</td>\n",
       "      <td>{'A0', 'C3', 'F1', 'A2', 'E-1', 'E3', 'G1', 'D...</td>\n",
       "      <td>28</td>\n",
       "    </tr>\n",
       "  </tbody>\n",
       "</table>\n",
       "</div>"
      ],
      "text/plain": [
       "                 Name                                              Notes  \\\n",
       "0      BreezeAndI.mid  ['E-2', 'B-2', 'B-2', 'E-3', 'B-2', 'B-2', 'E-...   \n",
       "1       IfIHadYou.mid  ['10.2.5', '10.2.5', '2.5.8', '2.5.8', '0.3.7'...   \n",
       "2  IllBeSeeingYou.mid  ['E-2', 'E-2', 'B-2', 'B-2', 'G2', 'D3', 'F2',...   \n",
       "3       JustAGame.mid  ['B3', '6.11', 'B1', 'E4', 'B1', 'F#4', 'B1', ...   \n",
       "4   Unforgettable.mid  ['G2', 'G1', 'G2', 'G1', 'G2', 'G2', 'G2', 'C#...   \n",
       "\n",
       "   Len_Sequence                                       Unique_notes  \\\n",
       "0           427  {'C3', 'F1', 'A2', 'B-0', 'E-1', 'E3', 'B1', '...   \n",
       "1           204  {'7.10.2', '6.9.0.2', '9.10.0.2.4', '6.9.0', '...   \n",
       "2           455  {'C3', 'F1', 'B-0', 'A2', 'E-1', 'D3', 'B1', '...   \n",
       "3          1572  {'C3', '9.2', 'A2', 'B4', 'E3', 'A3', 'D5', 'B...   \n",
       "4           421  {'A0', 'C3', 'F1', 'A2', 'E-1', 'E3', 'G1', 'D...   \n",
       "\n",
       "   len_Uni_Notes  \n",
       "0             27  \n",
       "1             37  \n",
       "2             29  \n",
       "3             39  \n",
       "4             28  "
      ]
     },
     "execution_count": 4,
     "metadata": {},
     "output_type": "execute_result"
    }
   ],
   "source": [
    "url = 'https://github.com/haysacks/midi-generator/raw/master/jazz-midi.csv'\n",
    "df = pd.read_csv(url, index_col = 0)\n",
    "print(df.shape)\n",
    "df.head()"
   ]
  },
  {
   "cell_type": "markdown",
   "metadata": {
    "colab_type": "text",
    "id": "MEay6oO4PunR"
   },
   "source": [
    "We take the first 100 MIDI files from the dataset due to time constraints."
   ]
  },
  {
   "cell_type": "code",
   "execution_count": 5,
   "metadata": {
    "colab": {
     "base_uri": "https://localhost:8080/",
     "height": 34
    },
    "colab_type": "code",
    "id": "wZBiLRsspIyd",
    "outputId": "435779fd-0c9d-42aa-8a01-765209a271ec",
    "scrolled": true
   },
   "outputs": [
    {
     "name": "stdout",
     "output_type": "stream",
     "text": [
      "Saved notes list to disk\n"
     ]
    }
   ],
   "source": [
    "# Combine all notes into 1 list\n",
    "notes = df[\"Notes\"][0:100].str.replace(\"'\", \"\").str.replace(' ', '').str.strip('[]').str.split(',')\n",
    "notes = [j for i in list(notes) for j in i]\n",
    "\n",
    "with open('notes.pickle', 'wb') as filename:\n",
    "    pickle.dump(notes, filename)\n",
    "print(\"Saved notes list to disk\")"
   ]
  },
  {
   "cell_type": "markdown",
   "metadata": {
    "colab_type": "text",
    "id": "GjseC0dKP87g"
   },
   "source": [
    "**Making sequences and recording the following note/chord**"
   ]
  },
  {
   "cell_type": "code",
   "execution_count": 6,
   "metadata": {
    "colab": {
     "base_uri": "https://localhost:8080/",
     "height": 34
    },
    "colab_type": "code",
    "id": "8dPCEOvapIyg",
    "outputId": "8d871050-da72-4f0a-f664-0580570a483b"
   },
   "outputs": [
    {
     "name": "stdout",
     "output_type": "stream",
     "text": [
      "Saved x to disk\n"
     ]
    }
   ],
   "source": [
    "pitchnames = sorted(set(item for item in notes))\n",
    "# Map notes/chords into integer categories\n",
    "notes_categories = dict((note, number) for number, note in enumerate(pitchnames))\n",
    "\n",
    "# Predict 1 note for sequence of <sequence_length> notes\n",
    "sequence_length = 50\n",
    "length = len(notes) - sequence_length\n",
    "\n",
    "# Input and output for LSTM\n",
    "x = []\n",
    "y = []\n",
    "\n",
    "for i in range(length):\n",
    "    sequence_in = notes[i : i + sequence_length]\n",
    "    sequence_out = notes[i + sequence_length]\n",
    "    \n",
    "    x.append([notes_categories[note] for note in sequence_in])\n",
    "    y.append(notes_categories[sequence_out])\n",
    "\n",
    "with open('x.pickle', 'wb') as filename:\n",
    "  pickle.dump(x, filename)\n",
    "print(\"Saved x to disk\")"
   ]
  },
  {
   "cell_type": "markdown",
   "metadata": {
    "colab_type": "text",
    "id": "rQy60_7ePfOz"
   },
   "source": [
    "# **Data Preparation**\n",
    "\n",
    "Reshape and normalise input, and one-hot encode categorical output"
   ]
  },
  {
   "cell_type": "code",
   "execution_count": 7,
   "metadata": {
    "colab": {
     "base_uri": "https://localhost:8080/",
     "height": 173
    },
    "colab_type": "code",
    "id": "wp7oBGujpIyi",
    "outputId": "db0dc941-31b9-4c16-8597-76995038dd5a"
   },
   "outputs": [
    {
     "name": "stdout",
     "output_type": "stream",
     "text": [
      "85070\n",
      "515\n",
      "[[0. 0. 0. ... 0. 0. 0.]\n",
      " [0. 0. 0. ... 0. 0. 0.]\n",
      " [0. 0. 0. ... 0. 0. 0.]\n",
      " ...\n",
      " [0. 0. 0. ... 0. 0. 0.]\n",
      " [0. 0. 0. ... 0. 0. 0.]\n",
      " [0. 0. 0. ... 0. 0. 0.]]\n"
     ]
    }
   ],
   "source": [
    "n_patterns = len(x)\n",
    "# Number of unique notes\n",
    "n_vocab = len(set(notes))\n",
    "\n",
    "print(n_patterns)\n",
    "print(n_vocab)\n",
    "\n",
    "# Input of LSTM layer is 3D (samples x time steps x features)\n",
    "x = np.reshape(x, (n_patterns, sequence_length, 1))\n",
    "\n",
    "# Normalise input\n",
    "x = x / float(n_vocab)\n",
    "\n",
    "# Encode categorical output\n",
    "y = np.array(y)\n",
    "ohe = OneHotEncoder(sparse = False)\n",
    "y = y.reshape(len(y), 1)\n",
    "y = ohe.fit_transform(y)\n",
    "print(y)\n",
    "\n",
    "x_train, x_test, y_train, y_test = train_test_split(x, y, test_size = 0.2)"
   ]
  },
  {
   "cell_type": "markdown",
   "metadata": {
    "colab_type": "text",
    "id": "qcpnjMLhPHu9"
   },
   "source": [
    "# **LSTM Model**"
   ]
  },
  {
   "cell_type": "code",
   "execution_count": 8,
   "metadata": {
    "colab": {
     "base_uri": "https://localhost:8080/",
     "height": 467
    },
    "colab_type": "code",
    "id": "vfvNgEz1pIyl",
    "outputId": "b493b85f-f469-4028-b719-6a1e4d10f34f",
    "scrolled": true
   },
   "outputs": [
    {
     "name": "stdout",
     "output_type": "stream",
     "text": [
      "Model: \"sequential\"\n",
      "_________________________________________________________________\n",
      "Layer (type)                 Output Shape              Param #   \n",
      "=================================================================\n",
      "lstm (LSTM)                  (None, 50, 512)           1052672   \n",
      "_________________________________________________________________\n",
      "dropout (Dropout)            (None, 50, 512)           0         \n",
      "_________________________________________________________________\n",
      "bidirectional (Bidirectional (None, 50, 1024)          4198400   \n",
      "_________________________________________________________________\n",
      "dropout_1 (Dropout)          (None, 50, 1024)          0         \n",
      "_________________________________________________________________\n",
      "bidirectional_1 (Bidirection (None, 1024)              6295552   \n",
      "_________________________________________________________________\n",
      "dense (Dense)                (None, 256)               262400    \n",
      "_________________________________________________________________\n",
      "dropout_2 (Dropout)          (None, 256)               0         \n",
      "_________________________________________________________________\n",
      "dense_1 (Dense)              (None, 515)               132355    \n",
      "_________________________________________________________________\n",
      "activation (Activation)      (None, 515)               0         \n",
      "=================================================================\n",
      "Total params: 11,941,379\n",
      "Trainable params: 11,941,379\n",
      "Non-trainable params: 0\n",
      "_________________________________________________________________\n"
     ]
    }
   ],
   "source": [
    "model = Sequential()\n",
    "model.add(LSTM(\n",
    "    512,\n",
    "    input_shape=(x_train.shape[1], x_train.shape[2]),\n",
    "    return_sequences=True\n",
    "))\n",
    "model.add(Dropout(0.5))\n",
    "model.add(Bidirectional(LSTM(512, return_sequences=True)))\n",
    "model.add(Dropout(0.5))\n",
    "model.add(Bidirectional(LSTM(512)))\n",
    "model.add(Dense(256))\n",
    "model.add(Dropout(0.5))\n",
    "model.add(Dense(n_vocab))\n",
    "model.add(Activation('softmax'))\n",
    "model.compile(loss = 'categorical_crossentropy', optimizer = 'adam', metrics=['accuracy'])\n",
    "\n",
    "model.summary()"
   ]
  },
  {
   "cell_type": "markdown",
   "metadata": {
    "colab_type": "text",
    "id": "LtwmL5zxPLBI"
   },
   "source": [
    "**Saving model and weights**"
   ]
  },
  {
   "cell_type": "markdown",
   "metadata": {
    "colab": {
     "base_uri": "https://localhost:8080/",
     "height": 1000
    },
    "colab_type": "code",
    "id": "YbvXEP7QpIyo",
    "outputId": "f551a691-3b75-4b6f-9d8d-7461c730a241"
   },
   "source": [
    "model.fit(x_train, y_train, validation_data = (x_test, y_test), epochs = 50, batch_size = 64)"
   ]
  },
  {
   "cell_type": "markdown",
   "metadata": {
    "colab_type": "text",
    "id": "4fvOJToEPNIi"
   },
   "source": [
    "**Training model**"
   ]
  },
  {
   "cell_type": "code",
   "execution_count": null,
   "metadata": {
    "colab": {
     "base_uri": "https://localhost:8080/",
     "height": 34
    },
    "colab_type": "code",
    "id": "DU-FPMtlpIys",
    "outputId": "db34dd58-9de4-4f5f-eb0c-2e99cb1cd0a0"
   },
   "outputs": [],
   "source": [
    "model_json = model.to_json()\n",
    "\n",
    "with open(\"model.json\", \"w\") as json_file:\n",
    "    json_file.write(model_json)\n",
    "\n",
    "model.save_weights(\"model.h5\")\n",
    "print(\"Saved model to disk\")"
   ]
  },
  {
   "cell_type": "code",
   "execution_count": null,
   "metadata": {},
   "outputs": [],
   "source": []
  }
 ],
 "metadata": {
  "accelerator": "GPU",
  "colab": {
   "collapsed_sections": [],
   "machine_shape": "hm",
   "name": "model.ipynb",
   "provenance": []
  },
  "kernelspec": {
   "display_name": "Python 3",
   "language": "python",
   "name": "python3"
  },
  "language_info": {
   "codemirror_mode": {
    "name": "ipython",
    "version": 3
   },
   "file_extension": ".py",
   "mimetype": "text/x-python",
   "name": "python",
   "nbconvert_exporter": "python",
   "pygments_lexer": "ipython3",
   "version": "3.7.7"
  }
 },
 "nbformat": 4,
 "nbformat_minor": 1
}