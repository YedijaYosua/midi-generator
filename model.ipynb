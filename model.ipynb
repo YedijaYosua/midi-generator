{
  "nbformat": 4,
  "nbformat_minor": 0,
  "metadata": {
    "kernelspec": {
      "name": "python3",
      "display_name": "Python 3"
    },
    "language_info": {
      "codemirror_mode": {
        "name": "ipython",
        "version": 3
      },
      "file_extension": ".py",
      "mimetype": "text/x-python",
      "name": "python",
      "nbconvert_exporter": "python",
      "pygments_lexer": "ipython3",
      "version": "3.7.7"
    },
    "colab": {
      "name": "model.ipynb",
      "provenance": [],
      "collapsed_sections": [],
      "machine_shape": "hm"
    },
    "accelerator": "GPU"
  },
  "cells": [
    {
      "cell_type": "markdown",
      "metadata": {
        "id": "y-7HT4UrO2CE",
        "colab_type": "text"
      },
      "source": [
        "# **Libraries**"
      ]
    },
    {
      "cell_type": "code",
      "metadata": {
        "id": "iHmzAMaIpIyD",
        "colab_type": "code",
        "colab": {}
      },
      "source": [
        "import numpy as np\n",
        "import pandas as pd\n",
        "import pickle\n",
        "import matplotlib.pyplot as plot\n",
        "\n",
        "from sklearn.model_selection import train_test_split\n",
        "from sklearn.preprocessing import OneHotEncoder\n",
        "\n",
        "from tensorflow.keras.models import Sequential\n",
        "from tensorflow.keras.layers import Dense\n",
        "from tensorflow.keras.layers import Dropout\n",
        "from tensorflow.keras.layers import LSTM\n",
        "from tensorflow.keras.layers import Activation\n",
        "from tensorflow.keras.layers import Bidirectional"
      ],
      "execution_count": 0,
      "outputs": []
    },
    {
      "cell_type": "code",
      "metadata": {
        "id": "8WvB5J0_gBuv",
        "colab_type": "code",
        "colab": {
          "base_uri": "https://localhost:8080/",
          "height": 34
        },
        "outputId": "ad991d9f-78cb-486c-d465-1bbd2762fbce"
      },
      "source": [
        "from google.colab import drive\n",
        "drive.mount('/content/drive')"
      ],
      "execution_count": 32,
      "outputs": [
        {
          "output_type": "stream",
          "text": [
            "Drive already mounted at /content/drive; to attempt to forcibly remount, call drive.mount(\"/content/drive\", force_remount=True).\n"
          ],
          "name": "stdout"
        }
      ]
    },
    {
      "cell_type": "markdown",
      "metadata": {
        "id": "blHEBpuVO9kA",
        "colab_type": "text"
      },
      "source": [
        "# **Importing Dataset**"
      ]
    },
    {
      "cell_type": "code",
      "metadata": {
        "id": "9gMjBj0VpIyI",
        "colab_type": "code",
        "outputId": "5337a9ef-1e8d-47b3-984f-ea304c9ae370",
        "colab": {
          "base_uri": "https://localhost:8080/",
          "height": 221
        }
      },
      "source": [
        "url = 'https://github.com/haysacks/midi-generator/raw/master/jazz-midi.csv'\n",
        "df = pd.read_csv(url, index_col = 0)\n",
        "print(df.shape)\n",
        "df.head()"
      ],
      "execution_count": 33,
      "outputs": [
        {
          "output_type": "stream",
          "text": [
            "(818, 5)\n"
          ],
          "name": "stdout"
        },
        {
          "output_type": "execute_result",
          "data": {
            "text/html": [
              "<div>\n",
              "<style scoped>\n",
              "    .dataframe tbody tr th:only-of-type {\n",
              "        vertical-align: middle;\n",
              "    }\n",
              "\n",
              "    .dataframe tbody tr th {\n",
              "        vertical-align: top;\n",
              "    }\n",
              "\n",
              "    .dataframe thead th {\n",
              "        text-align: right;\n",
              "    }\n",
              "</style>\n",
              "<table border=\"1\" class=\"dataframe\">\n",
              "  <thead>\n",
              "    <tr style=\"text-align: right;\">\n",
              "      <th></th>\n",
              "      <th>Name</th>\n",
              "      <th>Notes</th>\n",
              "      <th>Len_Sequence</th>\n",
              "      <th>Unique_notes</th>\n",
              "      <th>len_Uni_Notes</th>\n",
              "    </tr>\n",
              "  </thead>\n",
              "  <tbody>\n",
              "    <tr>\n",
              "      <th>0</th>\n",
              "      <td>BreezeAndI.mid</td>\n",
              "      <td>['E-2', 'B-2', 'B-2', 'E-3', 'B-2', 'B-2', 'E-...</td>\n",
              "      <td>427</td>\n",
              "      <td>{'C3', 'F1', 'A2', 'B-0', 'E-1', 'E3', 'B1', '...</td>\n",
              "      <td>27</td>\n",
              "    </tr>\n",
              "    <tr>\n",
              "      <th>1</th>\n",
              "      <td>IfIHadYou.mid</td>\n",
              "      <td>['10.2.5', '10.2.5', '2.5.8', '2.5.8', '0.3.7'...</td>\n",
              "      <td>204</td>\n",
              "      <td>{'7.10.2', '6.9.0.2', '9.10.0.2.4', '6.9.0', '...</td>\n",
              "      <td>37</td>\n",
              "    </tr>\n",
              "    <tr>\n",
              "      <th>2</th>\n",
              "      <td>IllBeSeeingYou.mid</td>\n",
              "      <td>['E-2', 'E-2', 'B-2', 'B-2', 'G2', 'D3', 'F2',...</td>\n",
              "      <td>455</td>\n",
              "      <td>{'C3', 'F1', 'B-0', 'A2', 'E-1', 'D3', 'B1', '...</td>\n",
              "      <td>29</td>\n",
              "    </tr>\n",
              "    <tr>\n",
              "      <th>3</th>\n",
              "      <td>JustAGame.mid</td>\n",
              "      <td>['B3', '6.11', 'B1', 'E4', 'B1', 'F#4', 'B1', ...</td>\n",
              "      <td>1572</td>\n",
              "      <td>{'C3', '9.2', 'A2', 'B4', 'E3', 'A3', 'D5', 'B...</td>\n",
              "      <td>39</td>\n",
              "    </tr>\n",
              "    <tr>\n",
              "      <th>4</th>\n",
              "      <td>Unforgettable.mid</td>\n",
              "      <td>['G2', 'G1', 'G2', 'G1', 'G2', 'G2', 'G2', 'C#...</td>\n",
              "      <td>421</td>\n",
              "      <td>{'A0', 'C3', 'F1', 'A2', 'E-1', 'E3', 'G1', 'D...</td>\n",
              "      <td>28</td>\n",
              "    </tr>\n",
              "  </tbody>\n",
              "</table>\n",
              "</div>"
            ],
            "text/plain": [
              "                 Name  ... len_Uni_Notes\n",
              "0      BreezeAndI.mid  ...            27\n",
              "1       IfIHadYou.mid  ...            37\n",
              "2  IllBeSeeingYou.mid  ...            29\n",
              "3       JustAGame.mid  ...            39\n",
              "4   Unforgettable.mid  ...            28\n",
              "\n",
              "[5 rows x 5 columns]"
            ]
          },
          "metadata": {
            "tags": []
          },
          "execution_count": 33
        }
      ]
    },
    {
      "cell_type": "markdown",
      "metadata": {
        "id": "MEay6oO4PunR",
        "colab_type": "text"
      },
      "source": [
        "We take the first 100 MIDI files from the dataset due to time constraints."
      ]
    },
    {
      "cell_type": "code",
      "metadata": {
        "scrolled": true,
        "id": "wZBiLRsspIyd",
        "colab_type": "code",
        "outputId": "11bdd553-897d-4e1c-d083-241758876e06",
        "colab": {
          "base_uri": "https://localhost:8080/",
          "height": 34
        }
      },
      "source": [
        "# Combine all notes into 1 list\n",
        "notes = df[\"Notes\"][0:100].str.replace(\"'\", \"\").str.replace(' ', '').str.strip('[]').str.split(',')\n",
        "notes = [j for i in list(notes) for j in i]\n",
        " \n",
        "with open('notes.pickle', 'wb') as filename:\n",
        "    pickle.dump(notes, filename)\n",
        "print(\"Saved notes list to disk\")"
      ],
      "execution_count": 34,
      "outputs": [
        {
          "output_type": "stream",
          "text": [
            "Saved notes list to disk\n"
          ],
          "name": "stdout"
        }
      ]
    },
    {
      "cell_type": "markdown",
      "metadata": {
        "id": "GjseC0dKP87g",
        "colab_type": "text"
      },
      "source": [
        "**Making sequences and recording the following note/chord**"
      ]
    },
    {
      "cell_type": "code",
      "metadata": {
        "id": "8dPCEOvapIyg",
        "colab_type": "code",
        "outputId": "0dd0ad61-51c7-4747-8bbc-df306a8e49a4",
        "colab": {
          "base_uri": "https://localhost:8080/",
          "height": 34
        }
      },
      "source": [
        "pitchnames = sorted(set(item for item in notes))\n",
        "# Map notes/chords into integer categories\n",
        "notes_categories = dict((note, number) for number, note in enumerate(pitchnames))\n",
        "\n",
        "# Predict 1 note for sequence of <sequence_length> notes\n",
        "sequence_length = 50\n",
        "length = len(notes) - sequence_length\n",
        "\n",
        "# Input and output for LSTM\n",
        "x = []\n",
        "y = []\n",
        "\n",
        "for i in range(length):\n",
        "    sequence_in = notes[i : i + sequence_length]\n",
        "    sequence_out = notes[i + sequence_length]\n",
        "    \n",
        "    x.append([notes_categories[note] for note in sequence_in])\n",
        "    y.append(notes_categories[sequence_out])\n",
        "\n",
        "with open('x.pickle', 'wb') as filename:\n",
        "  pickle.dump(x, filename)\n",
        "print(\"Saved x to disk\")"
      ],
      "execution_count": 35,
      "outputs": [
        {
          "output_type": "stream",
          "text": [
            "Saved x to disk\n"
          ],
          "name": "stdout"
        }
      ]
    },
    {
      "cell_type": "markdown",
      "metadata": {
        "id": "rQy60_7ePfOz",
        "colab_type": "text"
      },
      "source": [
        "# **Data Preparation**\n",
        "\n",
        "Reshape and normalise input, and one-hot encode categorical output"
      ]
    },
    {
      "cell_type": "code",
      "metadata": {
        "id": "wp7oBGujpIyi",
        "colab_type": "code",
        "outputId": "4be52ad6-3552-449a-fb99-e4ec4dac971b",
        "colab": {
          "base_uri": "https://localhost:8080/",
          "height": 170
        }
      },
      "source": [
        "n_patterns = len(x)\n",
        "# Number of unique notes\n",
        "n_vocab = len(set(notes))\n",
        "\n",
        "print(n_patterns)\n",
        "print(n_vocab)\n",
        "\n",
        "# Input of LSTM layer is 3D (samples x time steps x features)\n",
        "x = np.reshape(x, (n_patterns, sequence_length, 1))\n",
        "\n",
        "# Normalise input\n",
        "x = x / float(n_vocab)\n",
        "\n",
        "# Encode categorical output\n",
        "y = np.array(y)\n",
        "ohe = OneHotEncoder(sparse = False)\n",
        "y = y.reshape(len(y), 1)\n",
        "y = ohe.fit_transform(y)\n",
        "print(y)\n",
        "\n",
        "x_train, x_test, y_train, y_test = train_test_split(x, y, test_size = 0.2)"
      ],
      "execution_count": 36,
      "outputs": [
        {
          "output_type": "stream",
          "text": [
            "85070\n",
            "515\n",
            "[[0. 0. 0. ... 0. 0. 0.]\n",
            " [0. 0. 0. ... 0. 0. 0.]\n",
            " [0. 0. 0. ... 0. 0. 0.]\n",
            " ...\n",
            " [0. 0. 0. ... 0. 0. 0.]\n",
            " [0. 0. 0. ... 0. 0. 0.]\n",
            " [0. 0. 0. ... 0. 0. 0.]]\n"
          ],
          "name": "stdout"
        }
      ]
    },
    {
      "cell_type": "markdown",
      "metadata": {
        "id": "qcpnjMLhPHu9",
        "colab_type": "text"
      },
      "source": [
        "# **LSTM Model**"
      ]
    },
    {
      "cell_type": "code",
      "metadata": {
        "scrolled": true,
        "id": "vfvNgEz1pIyl",
        "colab_type": "code",
        "outputId": "e77e48e7-8009-4382-9e53-793385522cf1",
        "colab": {
          "base_uri": "https://localhost:8080/",
          "height": 459
        }
      },
      "source": [
        "model = Sequential()\n",
        "model.add(LSTM(\n",
        "    512,\n",
        "    input_shape=(x_train.shape[1], x_train.shape[2]),\n",
        "    return_sequences=True\n",
        "))\n",
        "model.add(Dropout(0.8))\n",
        "model.add(Bidirectional(LSTM(512, return_sequences=True)))\n",
        "model.add(Dropout(0.8))\n",
        "model.add(Bidirectional(LSTM(512)))\n",
        "model.add(Dense(256))\n",
        "model.add(Dropout(0.8))\n",
        "model.add(Dense(n_vocab))\n",
        "model.add(Activation('softmax'))\n",
        "model.compile(loss = 'categorical_crossentropy', optimizer = 'adam', metrics=['accuracy'])\n",
        "\n",
        "model.summary()"
      ],
      "execution_count": 37,
      "outputs": [
        {
          "output_type": "stream",
          "text": [
            "Model: \"sequential_3\"\n",
            "_________________________________________________________________\n",
            "Layer (type)                 Output Shape              Param #   \n",
            "=================================================================\n",
            "lstm_9 (LSTM)                (None, 50, 512)           1052672   \n",
            "_________________________________________________________________\n",
            "dropout_9 (Dropout)          (None, 50, 512)           0         \n",
            "_________________________________________________________________\n",
            "bidirectional_6 (Bidirection (None, 50, 1024)          4198400   \n",
            "_________________________________________________________________\n",
            "dropout_10 (Dropout)         (None, 50, 1024)          0         \n",
            "_________________________________________________________________\n",
            "bidirectional_7 (Bidirection (None, 1024)              6295552   \n",
            "_________________________________________________________________\n",
            "dense_6 (Dense)              (None, 256)               262400    \n",
            "_________________________________________________________________\n",
            "dropout_11 (Dropout)         (None, 256)               0         \n",
            "_________________________________________________________________\n",
            "dense_7 (Dense)              (None, 515)               132355    \n",
            "_________________________________________________________________\n",
            "activation_3 (Activation)    (None, 515)               0         \n",
            "=================================================================\n",
            "Total params: 11,941,379\n",
            "Trainable params: 11,941,379\n",
            "Non-trainable params: 0\n",
            "_________________________________________________________________\n"
          ],
          "name": "stdout"
        }
      ]
    },
    {
      "cell_type": "markdown",
      "metadata": {
        "id": "4fvOJToEPNIi",
        "colab_type": "text"
      },
      "source": [
        "**Training model**"
      ]
    },
    {
      "cell_type": "code",
      "metadata": {
        "id": "YbvXEP7QpIyo",
        "colab_type": "code",
        "outputId": "fa7d2892-049c-421d-9413-f8d6eaf90b48",
        "colab": {
          "base_uri": "https://localhost:8080/",
          "height": 1000
        }
      },
      "source": [
        "model.fit(x_train, y_train, validation_data = (x_test, y_test), epochs = 50, batch_size = 64)"
      ],
      "execution_count": 38,
      "outputs": [
        {
          "output_type": "stream",
          "text": [
            "Epoch 1/50\n",
            "1064/1064 [==============================] - 78s 73ms/step - loss: 4.7067 - accuracy: 0.0510 - val_loss: 4.5004 - val_accuracy: 0.0568\n",
            "Epoch 2/50\n",
            "1064/1064 [==============================] - 76s 72ms/step - loss: 4.5484 - accuracy: 0.0635 - val_loss: 4.4343 - val_accuracy: 0.0672\n",
            "Epoch 3/50\n",
            "1064/1064 [==============================] - 77s 72ms/step - loss: 4.4635 - accuracy: 0.0716 - val_loss: 4.3323 - val_accuracy: 0.0775\n",
            "Epoch 4/50\n",
            "1064/1064 [==============================] - 76s 72ms/step - loss: 4.3684 - accuracy: 0.0789 - val_loss: 4.2450 - val_accuracy: 0.0859\n",
            "Epoch 5/50\n",
            "1064/1064 [==============================] - 76s 72ms/step - loss: 4.2634 - accuracy: 0.0893 - val_loss: 4.0886 - val_accuracy: 0.0987\n",
            "Epoch 6/50\n",
            "1064/1064 [==============================] - 76s 72ms/step - loss: 4.1563 - accuracy: 0.1026 - val_loss: 3.9849 - val_accuracy: 0.1217\n",
            "Epoch 7/50\n",
            "1064/1064 [==============================] - 76s 71ms/step - loss: 4.0445 - accuracy: 0.1199 - val_loss: 3.9023 - val_accuracy: 0.1395\n",
            "Epoch 8/50\n",
            "1064/1064 [==============================] - 76s 72ms/step - loss: 3.9256 - accuracy: 0.1430 - val_loss: 3.7703 - val_accuracy: 0.1645\n",
            "Epoch 9/50\n",
            "1064/1064 [==============================] - 76s 72ms/step - loss: 3.8164 - accuracy: 0.1629 - val_loss: 3.6270 - val_accuracy: 0.1864\n",
            "Epoch 10/50\n",
            "1064/1064 [==============================] - 76s 72ms/step - loss: 3.6883 - accuracy: 0.1864 - val_loss: 3.4813 - val_accuracy: 0.2142\n",
            "Epoch 11/50\n",
            "1064/1064 [==============================] - 76s 72ms/step - loss: 3.5605 - accuracy: 0.2048 - val_loss: 3.3290 - val_accuracy: 0.2392\n",
            "Epoch 12/50\n",
            "1064/1064 [==============================] - 76s 72ms/step - loss: 3.4242 - accuracy: 0.2274 - val_loss: 3.1875 - val_accuracy: 0.2598\n",
            "Epoch 13/50\n",
            "1064/1064 [==============================] - 76s 72ms/step - loss: 3.3016 - accuracy: 0.2441 - val_loss: 3.0776 - val_accuracy: 0.2745\n",
            "Epoch 14/50\n",
            "1064/1064 [==============================] - 76s 72ms/step - loss: 3.1786 - accuracy: 0.2631 - val_loss: 2.9980 - val_accuracy: 0.2938\n",
            "Epoch 15/50\n",
            "1064/1064 [==============================] - 76s 72ms/step - loss: 3.0765 - accuracy: 0.2814 - val_loss: 2.8946 - val_accuracy: 0.3106\n",
            "Epoch 16/50\n",
            "1064/1064 [==============================] - 76s 72ms/step - loss: 2.9844 - accuracy: 0.2944 - val_loss: 2.8425 - val_accuracy: 0.3217\n",
            "Epoch 17/50\n",
            "1064/1064 [==============================] - 76s 72ms/step - loss: 2.8989 - accuracy: 0.3133 - val_loss: 2.7417 - val_accuracy: 0.3375\n",
            "Epoch 18/50\n",
            "1064/1064 [==============================] - 76s 72ms/step - loss: 2.8254 - accuracy: 0.3273 - val_loss: 2.7230 - val_accuracy: 0.3402\n",
            "Epoch 19/50\n",
            "1064/1064 [==============================] - 76s 72ms/step - loss: 2.7582 - accuracy: 0.3384 - val_loss: 2.6414 - val_accuracy: 0.3583\n",
            "Epoch 20/50\n",
            "1064/1064 [==============================] - 76s 72ms/step - loss: 2.6879 - accuracy: 0.3515 - val_loss: 2.6148 - val_accuracy: 0.3683\n",
            "Epoch 21/50\n",
            "1064/1064 [==============================] - 76s 72ms/step - loss: 2.6256 - accuracy: 0.3613 - val_loss: 2.6124 - val_accuracy: 0.3710\n",
            "Epoch 22/50\n",
            "1064/1064 [==============================] - 76s 72ms/step - loss: 2.5763 - accuracy: 0.3746 - val_loss: 2.5727 - val_accuracy: 0.3770\n",
            "Epoch 23/50\n",
            "1064/1064 [==============================] - 76s 72ms/step - loss: 2.5050 - accuracy: 0.3859 - val_loss: 2.5238 - val_accuracy: 0.3911\n",
            "Epoch 24/50\n",
            "1064/1064 [==============================] - 76s 72ms/step - loss: 2.4501 - accuracy: 0.3960 - val_loss: 2.4882 - val_accuracy: 0.4009\n",
            "Epoch 25/50\n",
            "1064/1064 [==============================] - 76s 72ms/step - loss: 2.3959 - accuracy: 0.4077 - val_loss: 2.4770 - val_accuracy: 0.4037\n",
            "Epoch 26/50\n",
            "1064/1064 [==============================] - 76s 72ms/step - loss: 2.3585 - accuracy: 0.4151 - val_loss: 2.4512 - val_accuracy: 0.4116\n",
            "Epoch 27/50\n",
            "1064/1064 [==============================] - 76s 72ms/step - loss: 2.2917 - accuracy: 0.4301 - val_loss: 2.4287 - val_accuracy: 0.4198\n",
            "Epoch 28/50\n",
            "1064/1064 [==============================] - 76s 72ms/step - loss: 2.2486 - accuracy: 0.4388 - val_loss: 2.4091 - val_accuracy: 0.4244\n",
            "Epoch 29/50\n",
            "1064/1064 [==============================] - 76s 72ms/step - loss: 2.2100 - accuracy: 0.4486 - val_loss: 2.3981 - val_accuracy: 0.4299\n",
            "Epoch 30/50\n",
            "1064/1064 [==============================] - 76s 72ms/step - loss: 2.1703 - accuracy: 0.4572 - val_loss: 2.3908 - val_accuracy: 0.4346\n",
            "Epoch 31/50\n",
            "1064/1064 [==============================] - 76s 72ms/step - loss: 2.1139 - accuracy: 0.4691 - val_loss: 2.3837 - val_accuracy: 0.4408\n",
            "Epoch 32/50\n",
            "1064/1064 [==============================] - 76s 72ms/step - loss: 2.0824 - accuracy: 0.4766 - val_loss: 2.3885 - val_accuracy: 0.4414\n",
            "Epoch 33/50\n",
            "1064/1064 [==============================] - 76s 72ms/step - loss: 2.0406 - accuracy: 0.4850 - val_loss: 2.3865 - val_accuracy: 0.4450\n",
            "Epoch 34/50\n",
            "1064/1064 [==============================] - 76s 72ms/step - loss: 1.9980 - accuracy: 0.4938 - val_loss: 2.3791 - val_accuracy: 0.4503\n",
            "Epoch 35/50\n",
            "1064/1064 [==============================] - 76s 72ms/step - loss: 1.9583 - accuracy: 0.5032 - val_loss: 2.3724 - val_accuracy: 0.4525\n",
            "Epoch 36/50\n",
            "1064/1064 [==============================] - 76s 72ms/step - loss: 1.9235 - accuracy: 0.5118 - val_loss: 2.3799 - val_accuracy: 0.4559\n",
            "Epoch 37/50\n",
            "1064/1064 [==============================] - 76s 72ms/step - loss: 1.8822 - accuracy: 0.5214 - val_loss: 2.3856 - val_accuracy: 0.4604\n",
            "Epoch 38/50\n",
            "1064/1064 [==============================] - 76s 72ms/step - loss: 1.8407 - accuracy: 0.5294 - val_loss: 2.3966 - val_accuracy: 0.4646\n",
            "Epoch 39/50\n",
            "1064/1064 [==============================] - 76s 72ms/step - loss: 1.8104 - accuracy: 0.5347 - val_loss: 2.3929 - val_accuracy: 0.4660\n",
            "Epoch 40/50\n",
            "1064/1064 [==============================] - 76s 72ms/step - loss: 1.7785 - accuracy: 0.5430 - val_loss: 2.4276 - val_accuracy: 0.4659\n",
            "Epoch 41/50\n",
            "1064/1064 [==============================] - 76s 72ms/step - loss: 1.7447 - accuracy: 0.5473 - val_loss: 2.4480 - val_accuracy: 0.4729\n",
            "Epoch 42/50\n",
            "1064/1064 [==============================] - 76s 72ms/step - loss: 1.7092 - accuracy: 0.5580 - val_loss: 2.4113 - val_accuracy: 0.4759\n",
            "Epoch 43/50\n",
            "1064/1064 [==============================] - 76s 72ms/step - loss: 1.6753 - accuracy: 0.5675 - val_loss: 2.4832 - val_accuracy: 0.4750\n",
            "Epoch 44/50\n",
            "1064/1064 [==============================] - 76s 72ms/step - loss: 1.6474 - accuracy: 0.5742 - val_loss: 2.4303 - val_accuracy: 0.4766\n",
            "Epoch 45/50\n",
            "1064/1064 [==============================] - 76s 72ms/step - loss: 1.6170 - accuracy: 0.5791 - val_loss: 2.4867 - val_accuracy: 0.4832\n",
            "Epoch 46/50\n",
            "1064/1064 [==============================] - 76s 72ms/step - loss: 1.5787 - accuracy: 0.5884 - val_loss: 2.5197 - val_accuracy: 0.4867\n",
            "Epoch 47/50\n",
            "1064/1064 [==============================] - 76s 72ms/step - loss: 1.5546 - accuracy: 0.5962 - val_loss: 2.4917 - val_accuracy: 0.4840\n",
            "Epoch 48/50\n",
            "1064/1064 [==============================] - 76s 72ms/step - loss: 1.5218 - accuracy: 0.6030 - val_loss: 2.5407 - val_accuracy: 0.4858\n",
            "Epoch 49/50\n",
            "1064/1064 [==============================] - 76s 72ms/step - loss: 1.4934 - accuracy: 0.6096 - val_loss: 2.5485 - val_accuracy: 0.4865\n",
            "Epoch 50/50\n",
            "1064/1064 [==============================] - 76s 72ms/step - loss: 1.4696 - accuracy: 0.6125 - val_loss: 2.5753 - val_accuracy: 0.4862\n"
          ],
          "name": "stdout"
        },
        {
          "output_type": "execute_result",
          "data": {
            "text/plain": [
              "<tensorflow.python.keras.callbacks.History at 0x7ff89c7d5400>"
            ]
          },
          "metadata": {
            "tags": []
          },
          "execution_count": 38
        }
      ]
    },
    {
      "cell_type": "markdown",
      "metadata": {
        "id": "LtwmL5zxPLBI",
        "colab_type": "text"
      },
      "source": [
        "**Saving model and weights**"
      ]
    },
    {
      "cell_type": "code",
      "metadata": {
        "id": "DU-FPMtlpIys",
        "colab_type": "code",
        "outputId": "8e2ac856-34b8-47e1-9a98-d79fb538c3ba",
        "colab": {
          "base_uri": "https://localhost:8080/",
          "height": 34
        }
      },
      "source": [
        "model_json = model.to_json()\n",
        "\n",
        "with open(\"model.json\", \"w\") as json_file:\n",
        "    json_file.write(model_json)\n",
        "\n",
        "model.save_weights(\"last_model.h5\")\n",
        "print(\"Saved model to disk\")"
      ],
      "execution_count": 39,
      "outputs": [
        {
          "output_type": "stream",
          "text": [
            "Saved model to disk\n"
          ],
          "name": "stdout"
        }
      ]
    },
    {
      "cell_type": "code",
      "metadata": {
        "id": "y1F8oimEfhOO",
        "colab_type": "code",
        "colab": {}
      },
      "source": [
        ""
      ],
      "execution_count": 0,
      "outputs": []
    }
  ]
}