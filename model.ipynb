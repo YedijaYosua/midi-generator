{
  "nbformat": 4,
  "nbformat_minor": 0,
  "metadata": {
    "kernelspec": {
      "name": "python3",
      "display_name": "Python 3"
    },
    "language_info": {
      "codemirror_mode": {
        "name": "ipython",
        "version": 3
      },
      "file_extension": ".py",
      "mimetype": "text/x-python",
      "name": "python",
      "nbconvert_exporter": "python",
      "pygments_lexer": "ipython3",
      "version": "3.7.7"
    },
    "colab": {
      "name": "Copy of model.ipynb",
      "provenance": [],
      "collapsed_sections": [],
      "toc_visible": true,
      "machine_shape": "hm",
      "include_colab_link": true
    },
    "accelerator": "GPU"
  },
  "cells": [
    {
      "cell_type": "markdown",
      "metadata": {
        "id": "view-in-github",
        "colab_type": "text"
      },
      "source": [
        "<a href=\"https://colab.research.google.com/github/haysacks/midi-generator/blob/angga%2FnewConfigModel/model.ipynb\" target=\"_parent\"><img src=\"https://colab.research.google.com/assets/colab-badge.svg\" alt=\"Open In Colab\"/></a>"
      ]
    },
    {
      "cell_type": "markdown",
      "metadata": {
        "id": "y-7HT4UrO2CE",
        "colab_type": "text"
      },
      "source": [
        "# **Libraries**"
      ]
    },
    {
      "cell_type": "code",
      "metadata": {
        "id": "iHmzAMaIpIyD",
        "colab_type": "code",
        "colab": {}
      },
      "source": [
        "import numpy as np\n",
        "import pandas as pd\n",
        "import pickle\n",
        "import matplotlib.pyplot as plot\n",
        "\n",
        "from sklearn.model_selection import train_test_split\n",
        "from sklearn.preprocessing import OneHotEncoder\n",
        "\n",
        "from tensorflow.keras.models import Sequential\n",
        "from tensorflow.keras.layers import Dense\n",
        "from tensorflow.keras.layers import Dropout\n",
        "from tensorflow.keras.layers import LSTM\n",
        "from tensorflow.keras.layers import Activation\n",
        "from tensorflow.keras.layers import Bidirectional"
      ],
      "execution_count": 0,
      "outputs": []
    },
    {
      "cell_type": "code",
      "metadata": {
        "id": "8WvB5J0_gBuv",
        "colab_type": "code",
        "outputId": "3530a46e-3376-4d06-ac07-04296a76b728",
        "colab": {
          "base_uri": "https://localhost:8080/",
          "height": 122
        }
      },
      "source": [
        "from google.colab import drive\n",
        "drive.mount('/content/drive')"
      ],
      "execution_count": 0,
      "outputs": [
        {
          "output_type": "stream",
          "text": [
            "Go to this URL in a browser: https://accounts.google.com/o/oauth2/auth?client_id=947318989803-6bn6qk8qdgf4n4g3pfee6491hc0brc4i.apps.googleusercontent.com&redirect_uri=urn%3aietf%3awg%3aoauth%3a2.0%3aoob&response_type=code&scope=email%20https%3a%2f%2fwww.googleapis.com%2fauth%2fdocs.test%20https%3a%2f%2fwww.googleapis.com%2fauth%2fdrive%20https%3a%2f%2fwww.googleapis.com%2fauth%2fdrive.photos.readonly%20https%3a%2f%2fwww.googleapis.com%2fauth%2fpeopleapi.readonly\n",
            "\n",
            "Enter your authorization code:\n",
            "··········\n",
            "Mounted at /content/drive\n"
          ],
          "name": "stdout"
        }
      ]
    },
    {
      "cell_type": "markdown",
      "metadata": {
        "id": "blHEBpuVO9kA",
        "colab_type": "text"
      },
      "source": [
        "# **Importing Dataset**"
      ]
    },
    {
      "cell_type": "code",
      "metadata": {
        "id": "9gMjBj0VpIyI",
        "colab_type": "code",
        "outputId": "110d6745-3d13-4694-beeb-13c9fd4307bd",
        "colab": {
          "base_uri": "https://localhost:8080/",
          "height": 221
        }
      },
      "source": [
        "url = 'https://github.com/haysacks/midi-generator/raw/master/jazz-midi.csv'\n",
        "df = pd.read_csv(url, index_col = 0)\n",
        "print(df.shape)\n",
        "df.head()"
      ],
      "execution_count": 0,
      "outputs": [
        {
          "output_type": "stream",
          "text": [
            "(818, 5)\n"
          ],
          "name": "stdout"
        },
        {
          "output_type": "execute_result",
          "data": {
            "text/html": [
              "<div>\n",
              "<style scoped>\n",
              "    .dataframe tbody tr th:only-of-type {\n",
              "        vertical-align: middle;\n",
              "    }\n",
              "\n",
              "    .dataframe tbody tr th {\n",
              "        vertical-align: top;\n",
              "    }\n",
              "\n",
              "    .dataframe thead th {\n",
              "        text-align: right;\n",
              "    }\n",
              "</style>\n",
              "<table border=\"1\" class=\"dataframe\">\n",
              "  <thead>\n",
              "    <tr style=\"text-align: right;\">\n",
              "      <th></th>\n",
              "      <th>Name</th>\n",
              "      <th>Notes</th>\n",
              "      <th>Len_Sequence</th>\n",
              "      <th>Unique_notes</th>\n",
              "      <th>len_Uni_Notes</th>\n",
              "    </tr>\n",
              "  </thead>\n",
              "  <tbody>\n",
              "    <tr>\n",
              "      <th>0</th>\n",
              "      <td>BreezeAndI.mid</td>\n",
              "      <td>['E-2', 'B-2', 'B-2', 'E-3', 'B-2', 'B-2', 'E-...</td>\n",
              "      <td>427</td>\n",
              "      <td>{'C3', 'F1', 'A2', 'B-0', 'E-1', 'E3', 'B1', '...</td>\n",
              "      <td>27</td>\n",
              "    </tr>\n",
              "    <tr>\n",
              "      <th>1</th>\n",
              "      <td>IfIHadYou.mid</td>\n",
              "      <td>['10.2.5', '10.2.5', '2.5.8', '2.5.8', '0.3.7'...</td>\n",
              "      <td>204</td>\n",
              "      <td>{'7.10.2', '6.9.0.2', '9.10.0.2.4', '6.9.0', '...</td>\n",
              "      <td>37</td>\n",
              "    </tr>\n",
              "    <tr>\n",
              "      <th>2</th>\n",
              "      <td>IllBeSeeingYou.mid</td>\n",
              "      <td>['E-2', 'E-2', 'B-2', 'B-2', 'G2', 'D3', 'F2',...</td>\n",
              "      <td>455</td>\n",
              "      <td>{'C3', 'F1', 'B-0', 'A2', 'E-1', 'D3', 'B1', '...</td>\n",
              "      <td>29</td>\n",
              "    </tr>\n",
              "    <tr>\n",
              "      <th>3</th>\n",
              "      <td>JustAGame.mid</td>\n",
              "      <td>['B3', '6.11', 'B1', 'E4', 'B1', 'F#4', 'B1', ...</td>\n",
              "      <td>1572</td>\n",
              "      <td>{'C3', '9.2', 'A2', 'B4', 'E3', 'A3', 'D5', 'B...</td>\n",
              "      <td>39</td>\n",
              "    </tr>\n",
              "    <tr>\n",
              "      <th>4</th>\n",
              "      <td>Unforgettable.mid</td>\n",
              "      <td>['G2', 'G1', 'G2', 'G1', 'G2', 'G2', 'G2', 'C#...</td>\n",
              "      <td>421</td>\n",
              "      <td>{'A0', 'C3', 'F1', 'A2', 'E-1', 'E3', 'G1', 'D...</td>\n",
              "      <td>28</td>\n",
              "    </tr>\n",
              "  </tbody>\n",
              "</table>\n",
              "</div>"
            ],
            "text/plain": [
              "                 Name  ... len_Uni_Notes\n",
              "0      BreezeAndI.mid  ...            27\n",
              "1       IfIHadYou.mid  ...            37\n",
              "2  IllBeSeeingYou.mid  ...            29\n",
              "3       JustAGame.mid  ...            39\n",
              "4   Unforgettable.mid  ...            28\n",
              "\n",
              "[5 rows x 5 columns]"
            ]
          },
          "metadata": {
            "tags": []
          },
          "execution_count": 4
        }
      ]
    },
    {
      "cell_type": "markdown",
      "metadata": {
        "id": "MEay6oO4PunR",
        "colab_type": "text"
      },
      "source": [
        "We take the first 100 MIDI files from the dataset due to time constraints."
      ]
    },
    {
      "cell_type": "code",
      "metadata": {
        "scrolled": true,
        "id": "wZBiLRsspIyd",
        "colab_type": "code",
        "outputId": "c62569f8-2093-4af8-ad1b-b4f5206f0bd2",
        "colab": {
          "base_uri": "https://localhost:8080/",
          "height": 34
        }
      },
      "source": [
        "# Combine all notes into 1 list\n",
        "notes = df[\"Notes\"][0:100].str.replace(\"'\", \"\").str.replace(' ', '').str.strip('[]').str.split(',')\n",
        "notes = [j for i in list(notes) for j in i]\n",
        " \n",
        "with open('notes.pickle', 'wb') as filename:\n",
        "    pickle.dump(notes, filename)\n",
        "print(\"Saved notes list to disk\")"
      ],
      "execution_count": 0,
      "outputs": [
        {
          "output_type": "stream",
          "text": [
            "Saved notes list to disk\n"
          ],
          "name": "stdout"
        }
      ]
    },
    {
      "cell_type": "markdown",
      "metadata": {
        "id": "GjseC0dKP87g",
        "colab_type": "text"
      },
      "source": [
        "**Making sequences and recording the following note/chord**"
      ]
    },
    {
      "cell_type": "code",
      "metadata": {
        "id": "8dPCEOvapIyg",
        "colab_type": "code",
        "outputId": "6fc4fb46-99e0-4d32-8d43-e7dddd2c1d40",
        "colab": {
          "base_uri": "https://localhost:8080/",
          "height": 34
        }
      },
      "source": [
        "pitchnames = sorted(set(item for item in notes))\n",
        "# Map notes/chords into integer categories\n",
        "notes_categories = dict((note, number) for number, note in enumerate(pitchnames))\n",
        "\n",
        "# Predict 1 note for sequence of <sequence_length> notes\n",
        "sequence_length = 50\n",
        "length = len(notes) - sequence_length\n",
        "\n",
        "# Input and output for LSTM\n",
        "x = []\n",
        "y = []\n",
        "\n",
        "for i in range(length):\n",
        "    sequence_in = notes[i : i + sequence_length]\n",
        "    sequence_out = notes[i + sequence_length]\n",
        "    \n",
        "    x.append([notes_categories[note] for note in sequence_in])\n",
        "    y.append(notes_categories[sequence_out])\n",
        "\n",
        "with open('x.pickle', 'wb') as filename:\n",
        "  pickle.dump(x, filename)\n",
        "print(\"Saved x to disk\")"
      ],
      "execution_count": 0,
      "outputs": [
        {
          "output_type": "stream",
          "text": [
            "Saved x to disk\n"
          ],
          "name": "stdout"
        }
      ]
    },
    {
      "cell_type": "markdown",
      "metadata": {
        "id": "rQy60_7ePfOz",
        "colab_type": "text"
      },
      "source": [
        "# **Data Preparation**\n",
        "\n",
        "Reshape and normalise input, and one-hot encode categorical output"
      ]
    },
    {
      "cell_type": "code",
      "metadata": {
        "id": "wp7oBGujpIyi",
        "colab_type": "code",
        "outputId": "185f363b-eec3-489a-c1c7-d574536a46dc",
        "colab": {
          "base_uri": "https://localhost:8080/",
          "height": 170
        }
      },
      "source": [
        "n_patterns = len(x)\n",
        "# Number of unique notes\n",
        "n_vocab = len(set(notes))\n",
        "\n",
        "print(n_patterns)\n",
        "print(n_vocab)\n",
        "\n",
        "# Input of LSTM layer is 3D (samples x time steps x features)\n",
        "x = np.reshape(x, (n_patterns, sequence_length, 1))\n",
        "\n",
        "# Normalise input\n",
        "x = x / float(n_vocab)\n",
        "\n",
        "# Encode categorical output\n",
        "y = np.array(y)\n",
        "ohe = OneHotEncoder(sparse = False)\n",
        "y = y.reshape(len(y), 1)\n",
        "y = ohe.fit_transform(y)\n",
        "print(y)\n",
        "\n",
        "x_train, x_test, y_train, y_test = train_test_split(x, y, test_size = 0.2)"
      ],
      "execution_count": 0,
      "outputs": [
        {
          "output_type": "stream",
          "text": [
            "85070\n",
            "515\n",
            "[[0. 0. 0. ... 0. 0. 0.]\n",
            " [0. 0. 0. ... 0. 0. 0.]\n",
            " [0. 0. 0. ... 0. 0. 0.]\n",
            " ...\n",
            " [0. 0. 0. ... 0. 0. 0.]\n",
            " [0. 0. 0. ... 0. 0. 0.]\n",
            " [0. 0. 0. ... 0. 0. 0.]]\n"
          ],
          "name": "stdout"
        }
      ]
    },
    {
      "cell_type": "markdown",
      "metadata": {
        "id": "qcpnjMLhPHu9",
        "colab_type": "text"
      },
      "source": [
        "# **LSTM Model**"
      ]
    },
    {
      "cell_type": "code",
      "metadata": {
        "scrolled": true,
        "id": "vfvNgEz1pIyl",
        "colab_type": "code",
        "outputId": "8ceeea3d-6541-4837-d2ed-1f837175964f",
        "colab": {
          "base_uri": "https://localhost:8080/",
          "height": 459
        }
      },
      "source": [
        "model = Sequential()\n",
        "model.add(LSTM(\n",
        "    512,\n",
        "    input_shape=(x_train.shape[1], x_train.shape[2]),\n",
        "    return_sequences=True\n",
        "))\n",
        "model.add(Dropout(0.58))\n",
        "model.add(Bidirectional(LSTM(512, return_sequences=True)))\n",
        "model.add(Dropout(0.8))\n",
        "model.add(Bidirectional(LSTM(512)))\n",
        "model.add(Dense(256))\n",
        "model.add(Dropout(0.58))\n",
        "model.add(Dense(n_vocab))\n",
        "model.add(Activation('softmax'))\n",
        "model.compile(loss = 'categorical_crossentropy', optimizer = 'adam', metrics=['accuracy'])\n",
        "\n",
        "model.summary()"
      ],
      "execution_count": 0,
      "outputs": [
        {
          "output_type": "stream",
          "text": [
            "Model: \"sequential\"\n",
            "_________________________________________________________________\n",
            "Layer (type)                 Output Shape              Param #   \n",
            "=================================================================\n",
            "lstm (LSTM)                  (None, 50, 512)           1052672   \n",
            "_________________________________________________________________\n",
            "dropout (Dropout)            (None, 50, 512)           0         \n",
            "_________________________________________________________________\n",
            "bidirectional (Bidirectional (None, 50, 1024)          4198400   \n",
            "_________________________________________________________________\n",
            "dropout_1 (Dropout)          (None, 50, 1024)          0         \n",
            "_________________________________________________________________\n",
            "bidirectional_1 (Bidirection (None, 1024)              6295552   \n",
            "_________________________________________________________________\n",
            "dense (Dense)                (None, 256)               262400    \n",
            "_________________________________________________________________\n",
            "dropout_2 (Dropout)          (None, 256)               0         \n",
            "_________________________________________________________________\n",
            "dense_1 (Dense)              (None, 515)               132355    \n",
            "_________________________________________________________________\n",
            "activation (Activation)      (None, 515)               0         \n",
            "=================================================================\n",
            "Total params: 11,941,379\n",
            "Trainable params: 11,941,379\n",
            "Non-trainable params: 0\n",
            "_________________________________________________________________\n"
          ],
          "name": "stdout"
        }
      ]
    },
    {
      "cell_type": "markdown",
      "metadata": {
        "id": "4fvOJToEPNIi",
        "colab_type": "text"
      },
      "source": [
        "**Training model**"
      ]
    },
    {
      "cell_type": "code",
      "metadata": {
        "id": "YbvXEP7QpIyo",
        "colab_type": "code",
        "outputId": "c4c1c3cd-335d-4cf5-f85e-d302e88d4e2d",
        "colab": {
          "base_uri": "https://localhost:8080/",
          "height": 1000
        }
      },
      "source": [
        "model.fit(x_train, y_train, validation_data = (x_test, y_test), epochs = 50, batch_size = 64)"
      ],
      "execution_count": 0,
      "outputs": [
        {
          "output_type": "stream",
          "text": [
            "Epoch 1/50\n",
            "1064/1064 [==============================] - 76s 72ms/step - loss: 4.7681 - accuracy: 0.0492 - val_loss: 4.6255 - val_accuracy: 0.0555\n",
            "Epoch 2/50\n",
            "1064/1064 [==============================] - 75s 71ms/step - loss: 4.6419 - accuracy: 0.0552 - val_loss: 4.5959 - val_accuracy: 0.0561\n",
            "Epoch 3/50\n",
            "1064/1064 [==============================] - 75s 71ms/step - loss: 4.6413 - accuracy: 0.0569 - val_loss: 4.6121 - val_accuracy: 0.0560\n",
            "Epoch 4/50\n",
            "1064/1064 [==============================] - 75s 71ms/step - loss: 4.6154 - accuracy: 0.0575 - val_loss: 4.5815 - val_accuracy: 0.0563\n",
            "Epoch 5/50\n",
            "1064/1064 [==============================] - 75s 71ms/step - loss: 4.6077 - accuracy: 0.0573 - val_loss: 4.5763 - val_accuracy: 0.0567\n",
            "Epoch 6/50\n",
            "1064/1064 [==============================] - 75s 70ms/step - loss: 4.5995 - accuracy: 0.0581 - val_loss: 4.5737 - val_accuracy: 0.0566\n",
            "Epoch 7/50\n",
            "1064/1064 [==============================] - 75s 71ms/step - loss: 4.5920 - accuracy: 0.0575 - val_loss: 4.6121 - val_accuracy: 0.0568\n",
            "Epoch 8/50\n",
            "1064/1064 [==============================] - 75s 70ms/step - loss: 4.5891 - accuracy: 0.0577 - val_loss: 4.5794 - val_accuracy: 0.0565\n",
            "Epoch 9/50\n",
            "1064/1064 [==============================] - 75s 70ms/step - loss: 4.5912 - accuracy: 0.0578 - val_loss: 4.5635 - val_accuracy: 0.0571\n",
            "Epoch 10/50\n",
            "1064/1064 [==============================] - 75s 70ms/step - loss: 4.5621 - accuracy: 0.0590 - val_loss: 4.5158 - val_accuracy: 0.0573\n",
            "Epoch 11/50\n",
            "1064/1064 [==============================] - 75s 71ms/step - loss: 4.5034 - accuracy: 0.0605 - val_loss: 4.4579 - val_accuracy: 0.0634\n",
            "Epoch 12/50\n",
            "1064/1064 [==============================] - 75s 71ms/step - loss: 4.4657 - accuracy: 0.0653 - val_loss: 4.4878 - val_accuracy: 0.0569\n",
            "Epoch 13/50\n",
            "1064/1064 [==============================] - 75s 70ms/step - loss: 4.4404 - accuracy: 0.0667 - val_loss: 4.4292 - val_accuracy: 0.0714\n",
            "Epoch 14/50\n",
            "1064/1064 [==============================] - 75s 70ms/step - loss: 4.4062 - accuracy: 0.0715 - val_loss: 4.4471 - val_accuracy: 0.0715\n",
            "Epoch 15/50\n",
            "1064/1064 [==============================] - 75s 70ms/step - loss: 4.3845 - accuracy: 0.0734 - val_loss: 4.3887 - val_accuracy: 0.0718\n",
            "Epoch 16/50\n",
            "1064/1064 [==============================] - 75s 70ms/step - loss: 4.3658 - accuracy: 0.0749 - val_loss: 4.3856 - val_accuracy: 0.0746\n",
            "Epoch 17/50\n",
            "1064/1064 [==============================] - 75s 70ms/step - loss: 4.3505 - accuracy: 0.0775 - val_loss: 4.3090 - val_accuracy: 0.0771\n",
            "Epoch 18/50\n",
            "1064/1064 [==============================] - 75s 70ms/step - loss: 4.3250 - accuracy: 0.0767 - val_loss: 4.2955 - val_accuracy: 0.0828\n",
            "Epoch 19/50\n",
            "1064/1064 [==============================] - 75s 70ms/step - loss: 4.2998 - accuracy: 0.0806 - val_loss: 4.3062 - val_accuracy: 0.0807\n",
            "Epoch 20/50\n",
            "1064/1064 [==============================] - 75s 70ms/step - loss: 4.2673 - accuracy: 0.0825 - val_loss: 4.2256 - val_accuracy: 0.0841\n",
            "Epoch 21/50\n",
            "1064/1064 [==============================] - 75s 70ms/step - loss: 4.2203 - accuracy: 0.0859 - val_loss: 4.1927 - val_accuracy: 0.0861\n",
            "Epoch 22/50\n",
            "1064/1064 [==============================] - 75s 70ms/step - loss: 4.1840 - accuracy: 0.0894 - val_loss: 4.1444 - val_accuracy: 0.0929\n",
            "Epoch 23/50\n",
            "1064/1064 [==============================] - 75s 70ms/step - loss: 4.1289 - accuracy: 0.0948 - val_loss: 4.1177 - val_accuracy: 0.0987\n",
            "Epoch 24/50\n",
            "1064/1064 [==============================] - 75s 70ms/step - loss: 4.0903 - accuracy: 0.0978 - val_loss: 4.0635 - val_accuracy: 0.1064\n",
            "Epoch 25/50\n",
            "1064/1064 [==============================] - 75s 70ms/step - loss: 4.0560 - accuracy: 0.1018 - val_loss: 4.0038 - val_accuracy: 0.1063\n",
            "Epoch 26/50\n",
            "1064/1064 [==============================] - 75s 70ms/step - loss: 4.0141 - accuracy: 0.1068 - val_loss: 3.9711 - val_accuracy: 0.1108\n",
            "Epoch 27/50\n",
            "1064/1064 [==============================] - 75s 70ms/step - loss: 3.9611 - accuracy: 0.1126 - val_loss: 3.9423 - val_accuracy: 0.1198\n",
            "Epoch 28/50\n",
            "1064/1064 [==============================] - 75s 70ms/step - loss: 3.9148 - accuracy: 0.1190 - val_loss: 3.8987 - val_accuracy: 0.1255\n",
            "Epoch 29/50\n",
            "1064/1064 [==============================] - 75s 70ms/step - loss: 3.8678 - accuracy: 0.1264 - val_loss: 3.8221 - val_accuracy: 0.1367\n",
            "Epoch 30/50\n",
            "1064/1064 [==============================] - 75s 70ms/step - loss: 3.8220 - accuracy: 0.1327 - val_loss: 3.7906 - val_accuracy: 0.1383\n",
            "Epoch 31/50\n",
            "1064/1064 [==============================] - 75s 70ms/step - loss: 3.7616 - accuracy: 0.1433 - val_loss: 3.6976 - val_accuracy: 0.1587\n",
            "Epoch 32/50\n",
            "1064/1064 [==============================] - 75s 70ms/step - loss: 3.7053 - accuracy: 0.1506 - val_loss: 3.6882 - val_accuracy: 0.1558\n",
            "Epoch 33/50\n",
            "1064/1064 [==============================] - 75s 71ms/step - loss: 3.6444 - accuracy: 0.1599 - val_loss: 3.5846 - val_accuracy: 0.1742\n",
            "Epoch 34/50\n",
            "1064/1064 [==============================] - 75s 71ms/step - loss: 3.5905 - accuracy: 0.1666 - val_loss: 3.5568 - val_accuracy: 0.1710\n",
            "Epoch 35/50\n",
            "1064/1064 [==============================] - 76s 71ms/step - loss: 3.5194 - accuracy: 0.1761 - val_loss: 3.4449 - val_accuracy: 0.1950\n",
            "Epoch 36/50\n",
            "1064/1064 [==============================] - 76s 71ms/step - loss: 3.4565 - accuracy: 0.1829 - val_loss: 3.4015 - val_accuracy: 0.2004\n",
            "Epoch 37/50\n",
            "1064/1064 [==============================] - 76s 71ms/step - loss: 3.3958 - accuracy: 0.1930 - val_loss: 3.3406 - val_accuracy: 0.2027\n",
            "Epoch 38/50\n",
            "1064/1064 [==============================] - 75s 71ms/step - loss: 3.3342 - accuracy: 0.2011 - val_loss: 3.2996 - val_accuracy: 0.2106\n",
            "Epoch 39/50\n",
            "1064/1064 [==============================] - 76s 71ms/step - loss: 3.2815 - accuracy: 0.2089 - val_loss: 3.2085 - val_accuracy: 0.2270\n",
            "Epoch 40/50\n",
            "1064/1064 [==============================] - 75s 71ms/step - loss: 3.2245 - accuracy: 0.2179 - val_loss: 3.1782 - val_accuracy: 0.2326\n",
            "Epoch 41/50\n",
            "1064/1064 [==============================] - 76s 71ms/step - loss: 3.1822 - accuracy: 0.2250 - val_loss: 3.1509 - val_accuracy: 0.2341\n",
            "Epoch 42/50\n",
            "1064/1064 [==============================] - 75s 71ms/step - loss: 3.1289 - accuracy: 0.2311 - val_loss: 3.1035 - val_accuracy: 0.2421\n",
            "Epoch 43/50\n",
            "1064/1064 [==============================] - 75s 70ms/step - loss: 3.0789 - accuracy: 0.2407 - val_loss: 3.0459 - val_accuracy: 0.2487\n",
            "Epoch 44/50\n",
            "1064/1064 [==============================] - 75s 70ms/step - loss: 3.0399 - accuracy: 0.2452 - val_loss: 3.0119 - val_accuracy: 0.2574\n",
            "Epoch 45/50\n",
            "1064/1064 [==============================] - 75s 70ms/step - loss: 3.0067 - accuracy: 0.2518 - val_loss: 2.9720 - val_accuracy: 0.2641\n",
            "Epoch 46/50\n",
            "1064/1064 [==============================] - 75s 70ms/step - loss: 2.9662 - accuracy: 0.2584 - val_loss: 2.9542 - val_accuracy: 0.2659\n",
            "Epoch 47/50\n",
            "1064/1064 [==============================] - 75s 70ms/step - loss: 2.9284 - accuracy: 0.2649 - val_loss: 2.9244 - val_accuracy: 0.2692\n",
            "Epoch 48/50\n",
            "1064/1064 [==============================] - 75s 70ms/step - loss: 2.8944 - accuracy: 0.2702 - val_loss: 2.9057 - val_accuracy: 0.2771\n",
            "Epoch 49/50\n",
            "1064/1064 [==============================] - 75s 70ms/step - loss: 2.8612 - accuracy: 0.2754 - val_loss: 2.8704 - val_accuracy: 0.2795\n",
            "Epoch 50/50\n",
            "1064/1064 [==============================] - 75s 70ms/step - loss: 2.8214 - accuracy: 0.2809 - val_loss: 2.8785 - val_accuracy: 0.2801\n"
          ],
          "name": "stdout"
        },
        {
          "output_type": "execute_result",
          "data": {
            "text/plain": [
              "<tensorflow.python.keras.callbacks.History at 0x7ff916269240>"
            ]
          },
          "metadata": {
            "tags": []
          },
          "execution_count": 9
        }
      ]
    },
    {
      "cell_type": "markdown",
      "metadata": {
        "id": "LtwmL5zxPLBI",
        "colab_type": "text"
      },
      "source": [
        "**Saving model and weights**"
      ]
    },
    {
      "cell_type": "code",
      "metadata": {
        "id": "DU-FPMtlpIys",
        "colab_type": "code",
        "outputId": "13e10445-c83e-4480-aed5-20bdbd773a3a",
        "colab": {
          "base_uri": "https://localhost:8080/",
          "height": 34
        }
      },
      "source": [
        "model_json = model.to_json()\n",
        "\n",
        "with open(\"model.json\", \"w\") as json_file:\n",
        "    json_file.write(model_json)\n",
        "\n",
        "model.save_weights(\"modelagain.h5\")\n",
        "print(\"Saved model to disk\")"
      ],
      "execution_count": 0,
      "outputs": [
        {
          "output_type": "stream",
          "text": [
            "Saved model to disk\n"
          ],
          "name": "stdout"
        }
      ]
    },
    {
      "cell_type": "code",
      "metadata": {
        "id": "y1F8oimEfhOO",
        "colab_type": "code",
        "colab": {}
      },
      "source": [
        ""
      ],
      "execution_count": 0,
      "outputs": []
    }
  ]
}