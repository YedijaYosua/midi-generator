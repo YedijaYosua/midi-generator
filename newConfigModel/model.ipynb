{
  "nbformat": 4,
  "nbformat_minor": 0,
  "metadata": {
    "accelerator": "GPU",
    "colab": {
      "name": "model.ipynb",
      "provenance": [],
      "collapsed_sections": [],
      "machine_shape": "hm"
    },
    "kernelspec": {
      "display_name": "Python 3",
      "language": "python",
      "name": "python3"
    },
    "language_info": {
      "codemirror_mode": {
        "name": "ipython",
        "version": 3
      },
      "file_extension": ".py",
      "mimetype": "text/x-python",
      "name": "python",
      "nbconvert_exporter": "python",
      "pygments_lexer": "ipython3",
      "version": "3.7.7"
    }
  },
  "cells": [
    {
      "cell_type": "markdown",
      "metadata": {
        "colab_type": "text",
        "id": "y-7HT4UrO2CE"
      },
      "source": [
        "# **Libraries**"
      ]
    },
    {
      "cell_type": "code",
      "metadata": {
        "colab_type": "code",
        "id": "iHmzAMaIpIyD",
        "colab": {}
      },
      "source": [
        "import numpy as np\n",
        "import pandas as pd\n",
        "import pickle\n",
        "import matplotlib.pyplot as plot\n",
        "\n",
        "from sklearn.model_selection import train_test_split\n",
        "from sklearn.preprocessing import OneHotEncoder\n",
        "\n",
        "from tensorflow.keras.models import Sequential\n",
        "from tensorflow.keras.layers import Dense\n",
        "from tensorflow.keras.layers import Dropout\n",
        "from tensorflow.keras.layers import LSTM\n",
        "from tensorflow.keras.layers import Activation\n",
        "from tensorflow.keras.layers import Bidirectional"
      ],
      "execution_count": 0,
      "outputs": []
    },
    {
      "cell_type": "markdown",
      "metadata": {
        "colab_type": "text",
        "id": "blHEBpuVO9kA"
      },
      "source": [
        "# **Importing Dataset**"
      ]
    },
    {
      "cell_type": "code",
      "metadata": {
        "colab_type": "code",
        "id": "9gMjBj0VpIyI",
        "outputId": "15260caf-e905-43cc-d1f7-a9bcf10fe8c6",
        "colab": {
          "base_uri": "https://localhost:8080/",
          "height": 215
        }
      },
      "source": [
        "url = 'https://github.com/haysacks/midi-generator/raw/master/jazz-midi.csv'\n",
        "df = pd.read_csv(url, index_col = 0)\n",
        "print(df.shape)\n",
        "df.head()"
      ],
      "execution_count": 19,
      "outputs": [
        {
          "output_type": "stream",
          "text": [
            "(818, 5)\n"
          ],
          "name": "stdout"
        },
        {
          "output_type": "execute_result",
          "data": {
            "text/html": [
              "<div>\n",
              "<style scoped>\n",
              "    .dataframe tbody tr th:only-of-type {\n",
              "        vertical-align: middle;\n",
              "    }\n",
              "\n",
              "    .dataframe tbody tr th {\n",
              "        vertical-align: top;\n",
              "    }\n",
              "\n",
              "    .dataframe thead th {\n",
              "        text-align: right;\n",
              "    }\n",
              "</style>\n",
              "<table border=\"1\" class=\"dataframe\">\n",
              "  <thead>\n",
              "    <tr style=\"text-align: right;\">\n",
              "      <th></th>\n",
              "      <th>Name</th>\n",
              "      <th>Notes</th>\n",
              "      <th>Len_Sequence</th>\n",
              "      <th>Unique_notes</th>\n",
              "      <th>len_Uni_Notes</th>\n",
              "    </tr>\n",
              "  </thead>\n",
              "  <tbody>\n",
              "    <tr>\n",
              "      <th>0</th>\n",
              "      <td>BreezeAndI.mid</td>\n",
              "      <td>['E-2', 'B-2', 'B-2', 'E-3', 'B-2', 'B-2', 'E-...</td>\n",
              "      <td>427</td>\n",
              "      <td>{'C3', 'F1', 'A2', 'B-0', 'E-1', 'E3', 'B1', '...</td>\n",
              "      <td>27</td>\n",
              "    </tr>\n",
              "    <tr>\n",
              "      <th>1</th>\n",
              "      <td>IfIHadYou.mid</td>\n",
              "      <td>['10.2.5', '10.2.5', '2.5.8', '2.5.8', '0.3.7'...</td>\n",
              "      <td>204</td>\n",
              "      <td>{'7.10.2', '6.9.0.2', '9.10.0.2.4', '6.9.0', '...</td>\n",
              "      <td>37</td>\n",
              "    </tr>\n",
              "    <tr>\n",
              "      <th>2</th>\n",
              "      <td>IllBeSeeingYou.mid</td>\n",
              "      <td>['E-2', 'E-2', 'B-2', 'B-2', 'G2', 'D3', 'F2',...</td>\n",
              "      <td>455</td>\n",
              "      <td>{'C3', 'F1', 'B-0', 'A2', 'E-1', 'D3', 'B1', '...</td>\n",
              "      <td>29</td>\n",
              "    </tr>\n",
              "    <tr>\n",
              "      <th>3</th>\n",
              "      <td>JustAGame.mid</td>\n",
              "      <td>['B3', '6.11', 'B1', 'E4', 'B1', 'F#4', 'B1', ...</td>\n",
              "      <td>1572</td>\n",
              "      <td>{'C3', '9.2', 'A2', 'B4', 'E3', 'A3', 'D5', 'B...</td>\n",
              "      <td>39</td>\n",
              "    </tr>\n",
              "    <tr>\n",
              "      <th>4</th>\n",
              "      <td>Unforgettable.mid</td>\n",
              "      <td>['G2', 'G1', 'G2', 'G1', 'G2', 'G2', 'G2', 'C#...</td>\n",
              "      <td>421</td>\n",
              "      <td>{'A0', 'C3', 'F1', 'A2', 'E-1', 'E3', 'G1', 'D...</td>\n",
              "      <td>28</td>\n",
              "    </tr>\n",
              "  </tbody>\n",
              "</table>\n",
              "</div>"
            ],
            "text/plain": [
              "                 Name  ... len_Uni_Notes\n",
              "0      BreezeAndI.mid  ...            27\n",
              "1       IfIHadYou.mid  ...            37\n",
              "2  IllBeSeeingYou.mid  ...            29\n",
              "3       JustAGame.mid  ...            39\n",
              "4   Unforgettable.mid  ...            28\n",
              "\n",
              "[5 rows x 5 columns]"
            ]
          },
          "metadata": {
            "tags": []
          },
          "execution_count": 19
        }
      ]
    },
    {
      "cell_type": "markdown",
      "metadata": {
        "colab_type": "text",
        "id": "MEay6oO4PunR"
      },
      "source": [
        "We take the first 100 MIDI files from the dataset due to time constraints."
      ]
    },
    {
      "cell_type": "code",
      "metadata": {
        "colab_type": "code",
        "id": "wZBiLRsspIyd",
        "outputId": "fe6b5f99-6bf4-44f9-f378-1fd4a1b66b0d",
        "scrolled": true,
        "colab": {
          "base_uri": "https://localhost:8080/",
          "height": 34
        }
      },
      "source": [
        "# Combine all notes into 1 list\n",
        "notes = df[\"Notes\"][0:100].str.replace(\"'\", \"\").str.replace(' ', '').str.strip('[]').str.split(',')\n",
        "notes = [j for i in list(notes) for j in i]\n",
        "\n",
        "with open('notes.pickle', 'wb') as filename:\n",
        "    pickle.dump(notes, filename)\n",
        "print(\"Saved notes list to disk\")"
      ],
      "execution_count": 20,
      "outputs": [
        {
          "output_type": "stream",
          "text": [
            "Saved notes list to disk\n"
          ],
          "name": "stdout"
        }
      ]
    },
    {
      "cell_type": "markdown",
      "metadata": {
        "colab_type": "text",
        "id": "GjseC0dKP87g"
      },
      "source": [
        "**Making sequences and recording the following note/chord**"
      ]
    },
    {
      "cell_type": "code",
      "metadata": {
        "colab_type": "code",
        "id": "8dPCEOvapIyg",
        "outputId": "b76ee90e-6bfc-4182-8262-b8c225ac3b13",
        "colab": {
          "base_uri": "https://localhost:8080/",
          "height": 34
        }
      },
      "source": [
        "pitchnames = sorted(set(item for item in notes))\n",
        "# Map notes/chords into integer categories\n",
        "notes_categories = dict((note, number) for number, note in enumerate(pitchnames))\n",
        "\n",
        "# Predict 1 note for sequence of <sequence_length> notes\n",
        "sequence_length = 40\n",
        "length = len(notes) - sequence_length\n",
        "\n",
        "# Input and output for LSTM\n",
        "x = []\n",
        "y = []\n",
        "\n",
        "for i in range(length):\n",
        "    sequence_in = notes[i : i + sequence_length]\n",
        "    sequence_out = notes[i + sequence_length]\n",
        "    \n",
        "    x.append([notes_categories[note] for note in sequence_in])\n",
        "    y.append(notes_categories[sequence_out])\n",
        "\n",
        "with open('x.pickle', 'wb') as filename:\n",
        "  pickle.dump(x, filename)\n",
        "print(\"Saved x to disk\")"
      ],
      "execution_count": 28,
      "outputs": [
        {
          "output_type": "stream",
          "text": [
            "Saved x to disk\n"
          ],
          "name": "stdout"
        }
      ]
    },
    {
      "cell_type": "markdown",
      "metadata": {
        "colab_type": "text",
        "id": "rQy60_7ePfOz"
      },
      "source": [
        "# **Data Preparation**\n",
        "\n",
        "Reshape and normalise input, and one-hot encode categorical output"
      ]
    },
    {
      "cell_type": "code",
      "metadata": {
        "colab_type": "code",
        "id": "wp7oBGujpIyi",
        "outputId": "36f0c192-03e1-4560-882f-1adab9559b2d",
        "colab": {
          "base_uri": "https://localhost:8080/",
          "height": 176
        }
      },
      "source": [
        "n_patterns = len(x)\n",
        "# Number of unique notes\n",
        "n_vocab = len(set(notes))\n",
        "\n",
        "print(n_patterns)\n",
        "print(n_vocab)\n",
        "\n",
        "# Input of LSTM layer is 3D (samples x time steps x features)\n",
        "x = np.reshape(x, (n_patterns, sequence_length, 1))\n",
        "\n",
        "# Normalise input\n",
        "x = x / float(n_vocab)\n",
        "\n",
        "# Encode categorical output\n",
        "y = np.array(y)\n",
        "ohe = OneHotEncoder(sparse = False)\n",
        "y = y.reshape(len(y), 1)\n",
        "y = ohe.fit_transform(y)\n",
        "print(y)\n",
        "\n",
        "x_train, x_test, y_train, y_test = train_test_split(x, y, test_size = 0.2)"
      ],
      "execution_count": 29,
      "outputs": [
        {
          "output_type": "stream",
          "text": [
            "85080\n",
            "515\n",
            "[[0. 0. 0. ... 0. 0. 0.]\n",
            " [0. 0. 0. ... 0. 0. 0.]\n",
            " [0. 0. 0. ... 0. 0. 0.]\n",
            " ...\n",
            " [0. 0. 0. ... 0. 0. 0.]\n",
            " [0. 0. 0. ... 0. 0. 0.]\n",
            " [0. 0. 0. ... 0. 0. 0.]]\n"
          ],
          "name": "stdout"
        }
      ]
    },
    {
      "cell_type": "markdown",
      "metadata": {
        "colab_type": "text",
        "id": "qcpnjMLhPHu9"
      },
      "source": [
        "# **LSTM Model**"
      ]
    },
    {
      "cell_type": "code",
      "metadata": {
        "colab_type": "code",
        "id": "vfvNgEz1pIyl",
        "outputId": "a09a08fb-aadb-4c58-f76d-9e8eac8f7040",
        "scrolled": true,
        "colab": {
          "base_uri": "https://localhost:8080/",
          "height": 478
        }
      },
      "source": [
        "model = Sequential()\n",
        "model.add(LSTM(\n",
        "    512,\n",
        "    input_shape=(x_train.shape[1], x_train.shape[2]),\n",
        "    return_sequences=True\n",
        "))\n",
        "model.add(Dropout(0.6))\n",
        "model.add(Bidirectional(LSTM(512, return_sequences=True)))\n",
        "model.add(Dropout(0.6))\n",
        "model.add(Bidirectional(LSTM(512)))\n",
        "model.add(Dense(256))\n",
        "model.add(Dropout(0.6))\n",
        "model.add(Dense(n_vocab))\n",
        "model.add(Activation('softmax'))\n",
        "model.compile(loss = 'categorical_crossentropy', optimizer = 'adam', metrics=['accuracy'])\n",
        "\n",
        "model.summary()"
      ],
      "execution_count": 32,
      "outputs": [
        {
          "output_type": "stream",
          "text": [
            "Model: \"sequential_7\"\n",
            "_________________________________________________________________\n",
            "Layer (type)                 Output Shape              Param #   \n",
            "=================================================================\n",
            "lstm_21 (LSTM)               (None, 40, 512)           1052672   \n",
            "_________________________________________________________________\n",
            "dropout_21 (Dropout)         (None, 40, 512)           0         \n",
            "_________________________________________________________________\n",
            "bidirectional_14 (Bidirectio (None, 40, 1024)          4198400   \n",
            "_________________________________________________________________\n",
            "dropout_22 (Dropout)         (None, 40, 1024)          0         \n",
            "_________________________________________________________________\n",
            "bidirectional_15 (Bidirectio (None, 1024)              6295552   \n",
            "_________________________________________________________________\n",
            "dense_14 (Dense)             (None, 256)               262400    \n",
            "_________________________________________________________________\n",
            "dropout_23 (Dropout)         (None, 256)               0         \n",
            "_________________________________________________________________\n",
            "dense_15 (Dense)             (None, 515)               132355    \n",
            "_________________________________________________________________\n",
            "activation_7 (Activation)    (None, 515)               0         \n",
            "=================================================================\n",
            "Total params: 11,941,379\n",
            "Trainable params: 11,941,379\n",
            "Non-trainable params: 0\n",
            "_________________________________________________________________\n"
          ],
          "name": "stdout"
        }
      ]
    },
    {
      "cell_type": "markdown",
      "metadata": {
        "colab_type": "text",
        "id": "4fvOJToEPNIi"
      },
      "source": [
        "**Training model**"
      ]
    },
    {
      "cell_type": "code",
      "metadata": {
        "colab_type": "code",
        "id": "YbvXEP7QpIyo",
        "outputId": "60e2b010-7d5d-4776-88d2-2f07fcc12aeb",
        "colab": {
          "base_uri": "https://localhost:8080/",
          "height": 1000
        }
      },
      "source": [
        "model.fit(x_train, y_train, validation_data = (x_test, y_test), epochs = 50, batch_size = 64)"
      ],
      "execution_count": 33,
      "outputs": [
        {
          "output_type": "stream",
          "text": [
            "Epoch 1/50\n",
            "1064/1064 [==============================] - 63s 59ms/step - loss: 4.6280 - accuracy: 0.0552 - val_loss: 4.4872 - val_accuracy: 0.0637\n",
            "Epoch 2/50\n",
            "1064/1064 [==============================] - 62s 59ms/step - loss: 4.4427 - accuracy: 0.0696 - val_loss: 4.3647 - val_accuracy: 0.0722\n",
            "Epoch 3/50\n",
            "1064/1064 [==============================] - 62s 59ms/step - loss: 4.2882 - accuracy: 0.0868 - val_loss: 4.1590 - val_accuracy: 0.0974\n",
            "Epoch 4/50\n",
            "1064/1064 [==============================] - 63s 59ms/step - loss: 4.0981 - accuracy: 0.1106 - val_loss: 3.8880 - val_accuracy: 0.1492\n",
            "Epoch 5/50\n",
            "1064/1064 [==============================] - 62s 59ms/step - loss: 3.8728 - accuracy: 0.1474 - val_loss: 3.6754 - val_accuracy: 0.1834\n",
            "Epoch 6/50\n",
            "1064/1064 [==============================] - 62s 58ms/step - loss: 3.6501 - accuracy: 0.1857 - val_loss: 3.4541 - val_accuracy: 0.2219\n",
            "Epoch 7/50\n",
            "1064/1064 [==============================] - 62s 59ms/step - loss: 3.4188 - accuracy: 0.2224 - val_loss: 3.2328 - val_accuracy: 0.2592\n",
            "Epoch 8/50\n",
            "1064/1064 [==============================] - 63s 59ms/step - loss: 3.1912 - accuracy: 0.2572 - val_loss: 3.0513 - val_accuracy: 0.2908\n",
            "Epoch 9/50\n",
            "1064/1064 [==============================] - 63s 59ms/step - loss: 2.9899 - accuracy: 0.2907 - val_loss: 2.9023 - val_accuracy: 0.3091\n",
            "Epoch 10/50\n",
            "1064/1064 [==============================] - 63s 59ms/step - loss: 2.8075 - accuracy: 0.3216 - val_loss: 2.7674 - val_accuracy: 0.3364\n",
            "Epoch 11/50\n",
            "1064/1064 [==============================] - 63s 59ms/step - loss: 2.6490 - accuracy: 0.3509 - val_loss: 2.6942 - val_accuracy: 0.3494\n",
            "Epoch 12/50\n",
            "1064/1064 [==============================] - 62s 59ms/step - loss: 2.5046 - accuracy: 0.3767 - val_loss: 2.6114 - val_accuracy: 0.3675\n",
            "Epoch 13/50\n",
            "1064/1064 [==============================] - 62s 59ms/step - loss: 2.3761 - accuracy: 0.3986 - val_loss: 2.5601 - val_accuracy: 0.3833\n",
            "Epoch 14/50\n",
            "1064/1064 [==============================] - 62s 59ms/step - loss: 2.2423 - accuracy: 0.4302 - val_loss: 2.5190 - val_accuracy: 0.3980\n",
            "Epoch 15/50\n",
            "1064/1064 [==============================] - 62s 58ms/step - loss: 2.1408 - accuracy: 0.4486 - val_loss: 2.4783 - val_accuracy: 0.4065\n",
            "Epoch 16/50\n",
            "1064/1064 [==============================] - 62s 58ms/step - loss: 2.0242 - accuracy: 0.4716 - val_loss: 2.4899 - val_accuracy: 0.4136\n",
            "Epoch 17/50\n",
            "1064/1064 [==============================] - 62s 58ms/step - loss: 1.9275 - accuracy: 0.4946 - val_loss: 2.5000 - val_accuracy: 0.4225\n",
            "Epoch 18/50\n",
            "1064/1064 [==============================] - 62s 59ms/step - loss: 1.8328 - accuracy: 0.5154 - val_loss: 2.5079 - val_accuracy: 0.4287\n",
            "Epoch 19/50\n",
            "1064/1064 [==============================] - 62s 59ms/step - loss: 1.7409 - accuracy: 0.5352 - val_loss: 2.4869 - val_accuracy: 0.4369\n",
            "Epoch 20/50\n",
            "1064/1064 [==============================] - 62s 58ms/step - loss: 1.6454 - accuracy: 0.5570 - val_loss: 2.5088 - val_accuracy: 0.4453\n",
            "Epoch 21/50\n",
            "1064/1064 [==============================] - 62s 58ms/step - loss: 1.5574 - accuracy: 0.5769 - val_loss: 2.5881 - val_accuracy: 0.4541\n",
            "Epoch 22/50\n",
            "1064/1064 [==============================] - 62s 58ms/step - loss: 1.4673 - accuracy: 0.5978 - val_loss: 2.5492 - val_accuracy: 0.4517\n",
            "Epoch 23/50\n",
            "1064/1064 [==============================] - 62s 58ms/step - loss: 1.3931 - accuracy: 0.6126 - val_loss: 2.6362 - val_accuracy: 0.4615\n",
            "Epoch 24/50\n",
            "1064/1064 [==============================] - 62s 58ms/step - loss: 1.3083 - accuracy: 0.6348 - val_loss: 2.7209 - val_accuracy: 0.4622\n",
            "Epoch 25/50\n",
            "1064/1064 [==============================] - 62s 58ms/step - loss: 1.2263 - accuracy: 0.6544 - val_loss: 2.7768 - val_accuracy: 0.4594\n",
            "Epoch 26/50\n",
            "1064/1064 [==============================] - 62s 58ms/step - loss: 1.1578 - accuracy: 0.6700 - val_loss: 2.8345 - val_accuracy: 0.4666\n",
            "Epoch 27/50\n",
            "1064/1064 [==============================] - 62s 58ms/step - loss: 1.0943 - accuracy: 0.6881 - val_loss: 2.8602 - val_accuracy: 0.4691\n",
            "Epoch 28/50\n",
            "1064/1064 [==============================] - 62s 58ms/step - loss: 1.0157 - accuracy: 0.7056 - val_loss: 2.9755 - val_accuracy: 0.4692\n",
            "Epoch 29/50\n",
            "1064/1064 [==============================] - 62s 58ms/step - loss: 0.9543 - accuracy: 0.7236 - val_loss: 3.0232 - val_accuracy: 0.4759\n",
            "Epoch 30/50\n",
            "1064/1064 [==============================] - 62s 58ms/step - loss: 0.9037 - accuracy: 0.7351 - val_loss: 3.1308 - val_accuracy: 0.4743\n",
            "Epoch 31/50\n",
            "1064/1064 [==============================] - 62s 58ms/step - loss: 0.8542 - accuracy: 0.7489 - val_loss: 3.2425 - val_accuracy: 0.4763\n",
            "Epoch 32/50\n",
            "1064/1064 [==============================] - 62s 59ms/step - loss: 0.8036 - accuracy: 0.7624 - val_loss: 3.3493 - val_accuracy: 0.4748\n",
            "Epoch 33/50\n",
            "1064/1064 [==============================] - 62s 58ms/step - loss: 0.7505 - accuracy: 0.7768 - val_loss: 3.3975 - val_accuracy: 0.4735\n",
            "Epoch 34/50\n",
            "1064/1064 [==============================] - 62s 59ms/step - loss: 0.7178 - accuracy: 0.7854 - val_loss: 3.4195 - val_accuracy: 0.4783\n",
            "Epoch 35/50\n",
            "1064/1064 [==============================] - 62s 58ms/step - loss: 0.6789 - accuracy: 0.7964 - val_loss: 3.5112 - val_accuracy: 0.4753\n",
            "Epoch 36/50\n",
            "1064/1064 [==============================] - 62s 59ms/step - loss: 0.6439 - accuracy: 0.8081 - val_loss: 3.5938 - val_accuracy: 0.4764\n",
            "Epoch 37/50\n",
            "1064/1064 [==============================] - 62s 58ms/step - loss: 0.6148 - accuracy: 0.8148 - val_loss: 3.6297 - val_accuracy: 0.4793\n",
            "Epoch 38/50\n",
            "1064/1064 [==============================] - 62s 59ms/step - loss: 0.5918 - accuracy: 0.8224 - val_loss: 3.7128 - val_accuracy: 0.4817\n",
            "Epoch 39/50\n",
            "1064/1064 [==============================] - 62s 59ms/step - loss: 0.5514 - accuracy: 0.8336 - val_loss: 3.8427 - val_accuracy: 0.4795\n",
            "Epoch 40/50\n",
            "1064/1064 [==============================] - 62s 58ms/step - loss: 0.5339 - accuracy: 0.8380 - val_loss: 3.8595 - val_accuracy: 0.4774\n",
            "Epoch 41/50\n",
            "1064/1064 [==============================] - 62s 58ms/step - loss: 0.5104 - accuracy: 0.8465 - val_loss: 3.8547 - val_accuracy: 0.4793\n",
            "Epoch 42/50\n",
            "1064/1064 [==============================] - 62s 58ms/step - loss: 0.4952 - accuracy: 0.8502 - val_loss: 4.0236 - val_accuracy: 0.4783\n",
            "Epoch 43/50\n",
            "1064/1064 [==============================] - 62s 58ms/step - loss: 0.4623 - accuracy: 0.8604 - val_loss: 4.0838 - val_accuracy: 0.4818\n",
            "Epoch 44/50\n",
            "1064/1064 [==============================] - 62s 58ms/step - loss: 0.4528 - accuracy: 0.8629 - val_loss: 4.0886 - val_accuracy: 0.4776\n",
            "Epoch 45/50\n",
            "1064/1064 [==============================] - 62s 58ms/step - loss: 0.4478 - accuracy: 0.8647 - val_loss: 4.1450 - val_accuracy: 0.4769\n",
            "Epoch 46/50\n",
            "1064/1064 [==============================] - 62s 58ms/step - loss: 0.4206 - accuracy: 0.8719 - val_loss: 4.2451 - val_accuracy: 0.4820\n",
            "Epoch 47/50\n",
            "1064/1064 [==============================] - 61s 58ms/step - loss: 0.4235 - accuracy: 0.8738 - val_loss: 4.2536 - val_accuracy: 0.4821\n",
            "Epoch 48/50\n",
            "1064/1064 [==============================] - 62s 58ms/step - loss: 0.4071 - accuracy: 0.8783 - val_loss: 4.3078 - val_accuracy: 0.4809\n",
            "Epoch 49/50\n",
            "1064/1064 [==============================] - 62s 58ms/step - loss: 0.3919 - accuracy: 0.8815 - val_loss: 4.2517 - val_accuracy: 0.4838\n",
            "Epoch 50/50\n",
            "1064/1064 [==============================] - 62s 58ms/step - loss: 0.3745 - accuracy: 0.8880 - val_loss: 4.3621 - val_accuracy: 0.4811\n"
          ],
          "name": "stdout"
        },
        {
          "output_type": "execute_result",
          "data": {
            "text/plain": [
              "<tensorflow.python.keras.callbacks.History at 0x7f159d9da8d0>"
            ]
          },
          "metadata": {
            "tags": []
          },
          "execution_count": 33
        }
      ]
    },
    {
      "cell_type": "markdown",
      "metadata": {
        "colab_type": "text",
        "id": "LtwmL5zxPLBI"
      },
      "source": [
        "**Saving model and weights**"
      ]
    },
    {
      "cell_type": "code",
      "metadata": {
        "colab_type": "code",
        "id": "DU-FPMtlpIys",
        "outputId": "0ed2ee90-2588-4d29-f1dc-b8a1620d0ba2",
        "colab": {
          "base_uri": "https://localhost:8080/",
          "height": 34
        }
      },
      "source": [
        "model_json = model.to_json()\n",
        "\n",
        "with open(\"model.json\", \"w\") as json_file:\n",
        "    json_file.write(model_json)\n",
        "\n",
        "model.save_weights(\"model.h5\")\n",
        "print(\"Saved model to disk\")"
      ],
      "execution_count": 35,
      "outputs": [
        {
          "output_type": "stream",
          "text": [
            "Saved model to disk\n"
          ],
          "name": "stdout"
        }
      ]
    }
  ]
}