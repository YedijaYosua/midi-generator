{
 "cells": [
  {
   "cell_type": "markdown",
   "metadata": {
    "colab_type": "text",
    "id": "3-m1tgdYQa_p"
   },
   "source": [
    "# **Libraries**"
   ]
  },
  {
   "cell_type": "code",
   "execution_count": 1,
   "metadata": {
    "colab": {},
    "colab_type": "code",
    "id": "3v0zUY1V8mTg"
   },
   "outputs": [],
   "source": [
    "import numpy as np\n",
    "import pickle\n",
    "\n",
    "from music21 import instrument, note, stream, chord\n",
    "\n",
    "from tensorflow.keras.models import model_from_json"
   ]
  },
  {
   "cell_type": "markdown",
   "metadata": {
    "colab_type": "text",
    "id": "5wrqBlw1QmDZ"
   },
   "source": [
    "# **Loading Model and Notes**"
   ]
  },
  {
   "cell_type": "code",
   "execution_count": 2,
   "metadata": {
    "colab": {
     "base_uri": "https://localhost:8080/",
     "height": 69
    },
    "colab_type": "code",
    "id": "EP6C6tPw8mTj",
    "outputId": "fb8ad8f3-c6c6-4c1e-c80e-a2b665313407"
   },
   "outputs": [
    {
     "name": "stdout",
     "output_type": "stream",
     "text": [
      "Loaded notes list from disk\n",
      "Loaded x from disk\n",
      "Loaded model from disk\n"
     ]
    }
   ],
   "source": [
    "# Load notes list\n",
    "with open('notes.pickle', 'rb') as filename:\n",
    "    notes = pickle.load(filename)\n",
    "print(\"Loaded notes list from disk\")\n",
    "\n",
    "# Load x\n",
    "with open('x.pickle', 'rb') as filename:\n",
    "    x = pickle.load(filename)\n",
    "print(\"Loaded x from disk\")\n",
    "\n",
    "# Load model and weights\n",
    "json_file = open('model.json', 'r')\n",
    "loaded_model_json = json_file.read()\n",
    "json_file.close()\n",
    "model = model_from_json(loaded_model_json)\n",
    "\n",
    "model.load_weights(\"modellagi.h5\")\n",
    "print(\"Loaded model from disk\")"
   ]
  },
  {
   "cell_type": "code",
   "execution_count": 3,
   "metadata": {
    "colab": {},
    "colab_type": "code",
    "id": "VEV-XRvq8mTn"
   },
   "outputs": [],
   "source": [
    "# Number of unique notes\n",
    "n_vocab = len(set(notes))\n",
    "\n",
    "pitchnames = sorted(set(item for item in notes))\n",
    "# Map notes/chords into integer categories\n",
    "notes_categories = dict((number, note) for number, note in enumerate(pitchnames))"
   ]
  },
  {
   "cell_type": "markdown",
   "metadata": {
    "colab_type": "text",
    "id": "tA3XaCaRQtF5"
   },
   "source": [
    "# **Model Prediction**\n",
    "\n",
    "**Predicting Note from Given Sequence**"
   ]
  },
  {
   "cell_type": "code",
   "execution_count": 4,
   "metadata": {
    "colab": {},
    "colab_type": "code",
    "id": "xexQ2d768mTq"
   },
   "outputs": [],
   "source": [
    "generate_length = 500\n",
    "first_index = np.random.randint(0, len(x) - 1)\n",
    "pattern = x[first_index]\n",
    "\n",
    "predict_y = []\n",
    "\n",
    "for i in range(generate_length):\n",
    "    predict_x = np.reshape(pattern, (1, len(pattern), 1))\n",
    "    predict_x = predict_x / float(n_vocab)\n",
    "    prediction = model.predict(predict_x)\n",
    "    \n",
    "    # Get highest probability from encoded matrix\n",
    "    index = np.argmax(prediction)\n",
    "    result = notes_categories[index]\n",
    "    predict_y.append(result)\n",
    "    pattern.append(index)\n",
    "    \n",
    "    # Remove first note until starting sequence is all removed\n",
    "    pattern = pattern[1:]"
   ]
  },
  {
   "cell_type": "markdown",
   "metadata": {
    "colab_type": "text",
    "id": "AiM-36d9RYhf"
   },
   "source": [
    "**Turn prediction into Music21 notes/chords**"
   ]
  },
  {
   "cell_type": "code",
   "execution_count": 5,
   "metadata": {
    "colab": {},
    "colab_type": "code",
    "id": "6MbuauIDNfI3"
   },
   "outputs": [],
   "source": [
    "offset = 0\n",
    "output_notes = []\n",
    "\n",
    "for element in predict_y:\n",
    "    # chord element\n",
    "    if ('.' in element) or element.isdigit():\n",
    "        notes_in_chord = element.split('.')\n",
    "        notes = []\n",
    "        for current_note in notes_in_chord:\n",
    "            new_note = note.Note(int(current_note))\n",
    "            new_note.storedInstrument = instrument.Saxophone()\n",
    "            notes.append(new_note)\n",
    "        new_chord = chord.Chord(notes)\n",
    "        new_chord.offset = offset\n",
    "        output_notes.append(new_chord)\n",
    "    # note element\n",
    "    else:\n",
    "        new_note = note.Note(element)\n",
    "        new_note.offset = offset\n",
    "        new_note.storedInstrument = instrument.Saxophone()\n",
    "        output_notes.append(new_note)\n",
    "    \n",
    "    offset += 0.5"
   ]
  },
  {
   "cell_type": "markdown",
   "metadata": {
    "colab_type": "text",
    "id": "tbVV7tRaQ4tI"
   },
   "source": [
    "# **Generate MIDI file**\n",
    "\n",
    "**Write output MIDI**"
   ]
  },
  {
   "cell_type": "code",
   "execution_count": 6,
   "metadata": {
    "colab": {
     "base_uri": "https://localhost:8080/",
     "height": 34
    },
    "colab_type": "code",
    "id": "MSE3RjPnNgqK",
    "outputId": "d21cfca6-2af6-40a3-b0f6-311068b4ab57"
   },
   "outputs": [
    {
     "data": {
      "text/plain": [
       "'output5.mid'"
      ]
     },
     "execution_count": 6,
     "metadata": {},
     "output_type": "execute_result"
    }
   ],
   "source": [
    "midi_stream = stream.Stream(output_notes)\n",
    "midi_stream.write('midi', fp = 'output5.mid')"
   ]
  },
  {
   "cell_type": "markdown",
   "metadata": {
    "colab_type": "text",
    "id": "EWrT72jeRpio"
   },
   "source": [
    "**Print output MIDI notes**"
   ]
  },
  {
   "cell_type": "code",
   "execution_count": 7,
   "metadata": {
    "colab": {
     "base_uri": "https://localhost:8080/",
     "height": 1000
    },
    "colab_type": "code",
    "id": "fhiTpBIua3gJ",
    "outputId": "4b6d4d7c-a25a-496d-b208-37f919fe7a75"
   },
   "outputs": [
    {
     "name": "stdout",
     "output_type": "stream",
     "text": [
      "{0.0} <music21.note.Note A>\n",
      "{0.5} <music21.chord.Chord E G#>\n",
      "{1.0} <music21.note.Note F#>\n",
      "{1.5} <music21.chord.Chord B C#>\n",
      "{2.0} <music21.chord.Chord F# G>\n",
      "{2.5} <music21.note.Note A>\n",
      "{3.0} <music21.note.Note C>\n",
      "{3.5} <music21.note.Note F#>\n",
      "{4.0} <music21.note.Note A>\n",
      "{4.5} <music21.note.Note F#>\n",
      "{5.0} <music21.note.Note A>\n",
      "{5.5} <music21.note.Note F#>\n",
      "{6.0} <music21.note.Note F#>\n",
      "{6.5} <music21.note.Note A>\n",
      "{7.0} <music21.note.Note C>\n",
      "{7.5} <music21.note.Note F#>\n",
      "{8.0} <music21.note.Note A>\n",
      "{8.5} <music21.note.Note F#>\n",
      "{9.0} <music21.note.Note A>\n",
      "{9.5} <music21.chord.Chord E G#>\n",
      "{10.0} <music21.note.Note F#>\n",
      "{10.5} <music21.note.Note A>\n",
      "{11.0} <music21.chord.Chord C F#>\n",
      "{11.5} <music21.note.Note A>\n",
      "{12.0} <music21.note.Note F#>\n",
      "{12.5} <music21.chord.Chord F# B>\n",
      "{13.0} <music21.note.Note E->\n",
      "{13.5} <music21.note.Note A>\n",
      "{14.0} <music21.note.Note C>\n",
      "{14.5} <music21.note.Note F#>\n",
      "{15.0} <music21.note.Note F#>\n",
      "{15.5} <music21.note.Note A>\n",
      "{16.0} <music21.note.Note F#>\n",
      "{16.5} <music21.note.Note A>\n",
      "{17.0} <music21.chord.Chord C F#>\n",
      "{17.5} <music21.note.Note A>\n",
      "{18.0} <music21.chord.Chord E G#>\n",
      "{18.5} <music21.note.Note F#>\n",
      "{19.0} <music21.note.Note A>\n",
      "{19.5} <music21.chord.Chord C F#>\n",
      "{20.0} <music21.note.Note A>\n",
      "{20.5} <music21.note.Note F#>\n",
      "{21.0} <music21.chord.Chord A B C#>\n",
      "{21.5} <music21.chord.Chord F G# B>\n",
      "{22.0} <music21.note.Note A>\n",
      "{22.5} <music21.note.Note C>\n",
      "{23.0} <music21.note.Note F#>\n",
      "{23.5} <music21.note.Note F#>\n",
      "{24.0} <music21.note.Note A>\n",
      "{24.5} <music21.note.Note F#>\n",
      "{25.0} <music21.note.Note A>\n",
      "{25.5} <music21.chord.Chord C F#>\n",
      "{26.0} <music21.note.Note A>\n",
      "{26.5} <music21.chord.Chord E G#>\n",
      "{27.0} <music21.note.Note F#>\n",
      "{27.5} <music21.note.Note A>\n",
      "{28.0} <music21.chord.Chord E F#>\n",
      "{28.5} <music21.note.Note A>\n",
      "{29.0} <music21.chord.Chord E F#>\n",
      "{29.5} <music21.chord.Chord G# B E->\n",
      "{30.0} <music21.chord.Chord F# G# B>\n",
      "{30.5} <music21.note.Note A>\n",
      "{31.0} <music21.note.Note C>\n",
      "{31.5} <music21.note.Note F#>\n",
      "{32.0} <music21.note.Note F#>\n",
      "{32.5} <music21.note.Note A>\n",
      "{33.0} <music21.note.Note F#>\n",
      "{33.5} <music21.chord.Chord F# G#>\n",
      "{34.0} <music21.chord.Chord G# B E->\n",
      "{34.5} <music21.note.Note A>\n",
      "{35.0} <music21.chord.Chord C F#>\n",
      "{35.5} <music21.note.Note A>\n",
      "{36.0} <music21.chord.Chord E G#>\n",
      "{36.5} <music21.note.Note F#>\n",
      "{37.0} <music21.chord.Chord B C# F#>\n",
      "{37.5} <music21.chord.Chord F# G>\n",
      "{38.0} <music21.note.Note A>\n",
      "{38.5} <music21.note.Note C>\n",
      "{39.0} <music21.note.Note F#>\n",
      "{39.5} <music21.note.Note A>\n",
      "{40.0} <music21.note.Note F#>\n",
      "{40.5} <music21.note.Note A>\n",
      "{41.0} <music21.note.Note F#>\n",
      "{41.5} <music21.note.Note F#>\n",
      "{42.0} <music21.note.Note A>\n",
      "{42.5} <music21.note.Note C>\n",
      "{43.0} <music21.note.Note F#>\n",
      "{43.5} <music21.note.Note A>\n",
      "{44.0} <music21.note.Note F#>\n",
      "{44.5} <music21.note.Note A>\n",
      "{45.0} <music21.note.Note E>\n",
      "{45.5} <music21.note.Note G#>\n",
      "{46.0} <music21.note.Note F#>\n",
      "{46.5} <music21.note.Note A>\n",
      "{47.0} <music21.chord.Chord C F#>\n",
      "{47.5} <music21.note.Note A>\n",
      "{48.0} <music21.note.Note F#>\n",
      "{48.5} <music21.chord.Chord B E->\n",
      "{49.0} <music21.note.Note F#>\n",
      "{49.5} <music21.note.Note A>\n",
      "{50.0} <music21.note.Note C>\n",
      "{50.5} <music21.note.Note F#>\n",
      "{51.0} <music21.note.Note F#>\n",
      "{51.5} <music21.note.Note A>\n",
      "{52.0} <music21.note.Note F#>\n",
      "{52.5} <music21.note.Note A>\n",
      "{53.0} <music21.chord.Chord C F#>\n",
      "{53.5} <music21.note.Note A>\n",
      "{54.0} <music21.chord.Chord E G#>\n",
      "{54.5} <music21.note.Note F#>\n",
      "{55.0} <music21.note.Note A>\n",
      "{55.5} <music21.chord.Chord C F#>\n",
      "{56.0} <music21.note.Note A>\n",
      "{56.5} <music21.note.Note F#>\n",
      "{57.0} <music21.chord.Chord A B C#>\n",
      "{57.5} <music21.chord.Chord E A>\n",
      "{58.0} <music21.note.Note A>\n",
      "{58.5} <music21.note.Note C>\n",
      "{59.0} <music21.note.Note F#>\n",
      "{59.5} <music21.note.Note F#>\n",
      "{60.0} <music21.note.Note A>\n",
      "{60.5} <music21.note.Note F#>\n",
      "{61.0} <music21.note.Note A>\n",
      "{61.5} <music21.chord.Chord C F#>\n",
      "{62.0} <music21.note.Note A>\n",
      "{62.5} <music21.note.Note E>\n",
      "{63.0} <music21.note.Note G#>\n",
      "{63.5} <music21.note.Note F#>\n",
      "{64.0} <music21.note.Note A>\n",
      "{64.5} <music21.chord.Chord C F#>\n",
      "{65.0} <music21.note.Note A>\n",
      "{65.5} <music21.note.Note F#>\n",
      "{66.0} <music21.chord.Chord E- F# G# B>\n",
      "{66.5} <music21.note.Note A>\n",
      "{67.0} <music21.note.Note C>\n",
      "{67.5} <music21.note.Note F#>\n",
      "{68.0} <music21.note.Note F#>\n",
      "{68.5} <music21.note.Note A>\n",
      "{69.0} <music21.note.Note F#>\n",
      "{69.5} <music21.chord.Chord E- F# G# B>\n",
      "{70.0} <music21.note.Note A>\n",
      "{70.5} <music21.chord.Chord C F#>\n",
      "{71.0} <music21.note.Note A>\n",
      "{71.5} <music21.chord.Chord E G#>\n",
      "{72.0} <music21.note.Note F#>\n",
      "{72.5} <music21.chord.Chord B C#>\n",
      "{73.0} <music21.chord.Chord F# G>\n",
      "{73.5} <music21.note.Note A>\n",
      "{74.0} <music21.note.Note C>\n",
      "{74.5} <music21.note.Note F#>\n",
      "{75.0} <music21.note.Note A>\n",
      "{75.5} <music21.note.Note F#>\n",
      "{76.0} <music21.note.Note A>\n",
      "{76.5} <music21.note.Note F#>\n",
      "{77.0} <music21.note.Note F#>\n",
      "{77.5} <music21.note.Note A>\n",
      "{78.0} <music21.note.Note C>\n",
      "{78.5} <music21.note.Note F#>\n",
      "{79.0} <music21.note.Note A>\n",
      "{79.5} <music21.note.Note F#>\n",
      "{80.0} <music21.note.Note A>\n",
      "{80.5} <music21.chord.Chord E G#>\n",
      "{81.0} <music21.note.Note C>\n",
      "{81.5} <music21.note.Note F#>\n",
      "{82.0} <music21.note.Note A>\n",
      "{82.5} <music21.note.Note F#>\n",
      "{83.0} <music21.note.Note A>\n",
      "{83.5} <music21.note.Note F#>\n",
      "{84.0} <music21.chord.Chord B E- F#>\n",
      "{84.5} <music21.note.Note A>\n",
      "{85.0} <music21.note.Note C>\n",
      "{85.5} <music21.note.Note F#>\n",
      "{86.0} <music21.note.Note F#>\n",
      "{86.5} <music21.note.Note A>\n",
      "{87.0} <music21.note.Note F#>\n",
      "{87.5} <music21.chord.Chord B E- F#>\n",
      "{88.0} <music21.note.Note A>\n",
      "{88.5} <music21.chord.Chord C F#>\n",
      "{89.0} <music21.note.Note A>\n",
      "{89.5} <music21.note.Note E>\n",
      "{90.0} <music21.note.Note G#>\n",
      "{90.5} <music21.note.Note F#>\n",
      "{91.0} <music21.chord.Chord F G# B>\n",
      "{91.5} <music21.note.Note E->\n",
      "{92.0} <music21.note.Note A>\n",
      "{92.5} <music21.note.Note C>\n",
      "{93.0} <music21.note.Note F#>\n",
      "{93.5} <music21.note.Note A>\n",
      "{94.0} <music21.note.Note F#>\n",
      "{94.5} <music21.note.Note A>\n",
      "{95.0} <music21.note.Note F#>\n",
      "{95.5} <music21.note.Note F#>\n",
      "{96.0} <music21.note.Note A>\n",
      "{96.5} <music21.note.Note C>\n",
      "{97.0} <music21.note.Note F#>\n",
      "{97.5} <music21.note.Note A>\n",
      "{98.0} <music21.note.Note F#>\n",
      "{98.5} <music21.note.Note A>\n",
      "{99.0} <music21.note.Note E>\n",
      "{99.5} <music21.note.Note G#>\n"
     ]
    }
   ],
   "source": [
    "midi_stream.show('text')"
   ]
  },
  {
   "cell_type": "code",
   "execution_count": null,
   "metadata": {},
   "outputs": [],
   "source": []
  }
 ],
 "metadata": {
  "colab": {
   "collapsed_sections": [],
   "name": "predict.ipynb",
   "provenance": []
  },
  "kernelspec": {
   "display_name": "Python 3",
   "language": "python",
   "name": "python3"
  },
  "language_info": {
   "codemirror_mode": {
    "name": "ipython",
    "version": 3
   },
   "file_extension": ".py",
   "mimetype": "text/x-python",
   "name": "python",
   "nbconvert_exporter": "python",
   "pygments_lexer": "ipython3",
   "version": "3.7.7"
  }
 },
 "nbformat": 4,
 "nbformat_minor": 1
}
